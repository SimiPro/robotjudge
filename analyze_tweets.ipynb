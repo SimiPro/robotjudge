{
 "cells": [
  {
   "cell_type": "code",
   "execution_count": 7,
   "metadata": {},
   "outputs": [
    {
     "name": "stdout",
     "output_type": "stream",
     "text": [
      "num tweets: 183\n"
     ]
    },
    {
     "data": {
      "text/html": [
       "<div>\n",
       "<style scoped>\n",
       "    .dataframe tbody tr th:only-of-type {\n",
       "        vertical-align: middle;\n",
       "    }\n",
       "\n",
       "    .dataframe tbody tr th {\n",
       "        vertical-align: top;\n",
       "    }\n",
       "\n",
       "    .dataframe thead th {\n",
       "        text-align: right;\n",
       "    }\n",
       "</style>\n",
       "<table border=\"1\" class=\"dataframe\">\n",
       "  <thead>\n",
       "    <tr style=\"text-align: right;\">\n",
       "      <th></th>\n",
       "      <th>hashtags</th>\n",
       "      <th>text</th>\n",
       "      <th>user</th>\n",
       "      <th>user_location</th>\n",
       "    </tr>\n",
       "  </thead>\n",
       "  <tbody>\n",
       "    <tr>\n",
       "      <th>0</th>\n",
       "      <td>['funniness', 'snicker', 'grin', 'laughable']</td>\n",
       "      <td>gotta love the funniness #funniness #snicker #...</td>\n",
       "      <td>JaimCou</td>\n",
       "      <td>Austin, TX</td>\n",
       "    </tr>\n",
       "    <tr>\n",
       "      <th>1</th>\n",
       "      <td>['kwibuka25']</td>\n",
       "      <td>International Day of Reflection on the 1994 Ge...</td>\n",
       "      <td>MaherNasserUN</td>\n",
       "      <td>New York, USA</td>\n",
       "    </tr>\n",
       "    <tr>\n",
       "      <th>2</th>\n",
       "      <td>['AANS2019', 'nsgy', 'SanDiego']</td>\n",
       "      <td>Following ⁦@EKNduom⁩ to spread #AANS2019 - dat...</td>\n",
       "      <td>patelnv</td>\n",
       "      <td>New York, NY</td>\n",
       "    </tr>\n",
       "    <tr>\n",
       "      <th>3</th>\n",
       "      <td>['teacher5aday', 'SanFrancisco']</td>\n",
       "      <td>Sunset from the apartment #teacher5aday #SanFr...</td>\n",
       "      <td>Eng_media_film</td>\n",
       "      <td>Liverpool, England</td>\n",
       "    </tr>\n",
       "    <tr>\n",
       "      <th>4</th>\n",
       "      <td>['toldyou', '2019WorldSeriesChampions']</td>\n",
       "      <td>@friarphilSD @sdraider75 How does it feel look...</td>\n",
       "      <td>realdavidalbizo</td>\n",
       "      <td>San Francisco, CA</td>\n",
       "    </tr>\n",
       "  </tbody>\n",
       "</table>\n",
       "</div>"
      ],
      "text/plain": [
       "                                        hashtags  \\\n",
       "0  ['funniness', 'snicker', 'grin', 'laughable']   \n",
       "1                                  ['kwibuka25']   \n",
       "2               ['AANS2019', 'nsgy', 'SanDiego']   \n",
       "3               ['teacher5aday', 'SanFrancisco']   \n",
       "4        ['toldyou', '2019WorldSeriesChampions']   \n",
       "\n",
       "                                                text             user  \\\n",
       "0  gotta love the funniness #funniness #snicker #...          JaimCou   \n",
       "1  International Day of Reflection on the 1994 Ge...    MaherNasserUN   \n",
       "2  Following ⁦@EKNduom⁩ to spread #AANS2019 - dat...          patelnv   \n",
       "3  Sunset from the apartment #teacher5aday #SanFr...   Eng_media_film   \n",
       "4  @friarphilSD @sdraider75 How does it feel look...  realdavidalbizo   \n",
       "\n",
       "        user_location  \n",
       "0          Austin, TX  \n",
       "1       New York, USA  \n",
       "2        New York, NY  \n",
       "3  Liverpool, England  \n",
       "4   San Francisco, CA  "
      ]
     },
     "execution_count": 7,
     "metadata": {},
     "output_type": "execute_result"
    }
   ],
   "source": [
    "import pandas as pd  \n",
    "tweets = pd.read_csv(\"saved_tweets.csv\", header=None, names=['hashtags', 'text', 'user', 'user_location'])  \n",
    "print('num tweets: {}'.format(len(tweets)))\n",
    "tweets.head()  "
   ]
  },
  {
   "cell_type": "code",
   "execution_count": null,
   "metadata": {},
   "outputs": [],
   "source": []
  }
 ],
 "metadata": {
  "kernelspec": {
   "display_name": "Python 3",
   "language": "python",
   "name": "python3"
  },
  "language_info": {
   "codemirror_mode": {
    "name": "ipython",
    "version": 3
   },
   "file_extension": ".py",
   "mimetype": "text/x-python",
   "name": "python",
   "nbconvert_exporter": "python",
   "pygments_lexer": "ipython3",
   "version": "3.7.2"
  }
 },
 "nbformat": 4,
 "nbformat_minor": 2
}
