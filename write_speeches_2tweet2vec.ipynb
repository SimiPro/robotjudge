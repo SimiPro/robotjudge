{
 "cells": [
  {
   "cell_type": "code",
   "execution_count": 46,
   "metadata": {},
   "outputs": [],
   "source": []
  },
  {
   "cell_type": "code",
   "execution_count": 48,
   "metadata": {},
   "outputs": [
    {
     "name": "stderr",
     "output_type": "stream",
     "text": [
      "[nltk_data] Downloading package wordnet to /home/simi/nltk_data...\n",
      "[nltk_data]   Package wordnet is already up-to-date!\n",
      "[nltk_data] Downloading package stopwords to /home/simi/nltk_data...\n",
      "[nltk_data]   Unzipping corpora/stopwords.zip.\n"
     ]
    }
   ],
   "source": [
    "import spacy\n",
    "import nltk\n",
    "\n",
    "nlp = spacy.load('en_core_web_md')\n",
    "\n",
    "def tokenize(text):\n",
    "    lda_tokens = []\n",
    "    tokens = nlp(text)\n",
    "    for token in tokens:\n",
    "        if token.orth_.isspace():\n",
    "            continue\n",
    "        elif token.like_url:\n",
    "            lda_tokens.append('URL')\n",
    "        elif token.orth_.startswith('@'):\n",
    "            lda_tokens.append('SCREEN_NAME')\n",
    "        else:\n",
    "            lda_tokens.append(token.lower_)\n",
    "    return lda_tokens\n",
    "\n",
    "\n",
    "nltk.download('wordnet')\n",
    "from nltk.corpus import wordnet as wn\n",
    "def get_lemma(word):\n",
    "    lemma = wn.morphy(word)\n",
    "    if lemma is None:\n",
    "        return word\n",
    "    else:\n",
    "        return lemma\n",
    "\n",
    "from nltk.stem.wordnet import WordNetLemmatizer\n",
    "def get_lemma2(word):\n",
    "    return WordNetLemmatizer().lemmatize(word)\n",
    "\n",
    "nltk.download('stopwords')\n",
    "en_stop = set(nltk.corpus.stopwords.words('english'))\n",
    "\n",
    "def prepare_text(text):\n",
    "    tokens = tokenize(text)\n",
    "    tokens = [token for token in tokens if len(token) > 4]\n",
    "    tokens = [token for token in tokens if token not in en_stop]\n",
    "    tokens = [get_lemma(token) for token in tokens]\n",
    "    return tokens"
   ]
  },
  {
   "cell_type": "code",
   "execution_count": 49,
   "metadata": {},
   "outputs": [],
   "source": [
    "import os\n",
    "import json\n",
    "import collections\n",
    "\n",
    "\n",
    "with open('/home/simi/projects/robot/speeches_by_speaker.json', 'r') as f:\n",
    "    f_json = json.load(f)\n",
    "speaches_by_speaker = f_json"
   ]
  },
  {
   "cell_type": "code",
   "execution_count": 53,
   "metadata": {},
   "outputs": [],
   "source": [
    "sen_2019 = [\n",
    "    \"Feinstein\", \"King\", \"Murphy\", \"Carper\", \"hirono\", \"Warren\",\n",
    "\"Stabenow\", \"klobuchar\", \"Wicker\", \"Tester\", \"Fischer\", \"Menendez\",\n",
    "\"Heinrich\", \"Gillibrand\", \"Brown\", \"Casey\", \"Whitehouse\", \"Cruz\",\n",
    "\"Sanders\", \"kaine\", \"Cantwell\", \"Manchin\", \"Baldwin\", \"Barrasso\"\n",
    "]\n",
    "\n",
    "\n",
    "def write_speech_as_tw2vec_file(senator, speeches):\n",
    "    date = speeches[0]\n",
    "    speech = speeches[1]\n",
    "    with open(f'speeches_2/tweet2vec_input_{senator}_{date}.txt', 'a') as f:\n",
    "        text = speech.replace('\\n', ' ')\n",
    "        text = ' '.join(prepare_text(text))\n",
    "    \n",
    "        for i in range(0, len(text), 145):\n",
    "            f.write(text[i:i+145] + '\\n')\n",
    "\n",
    "def write_speeches():\n",
    "    for sen in sen_2019:\n",
    "        for speaker in speaches_by_speaker.keys():\n",
    "            if sen.lower() in speaker.lower():\n",
    "                write_speech_as_tw2vec_file(sen, speaches_by_speaker[speaker])\n",
    "\n",
    "write_speeches()\n",
    "\n",
    "#list(speaches_by_speaker.keys())"
   ]
  },
  {
   "cell_type": "code",
   "execution_count": null,
   "metadata": {},
   "outputs": [],
   "source": []
  }
 ],
 "metadata": {
  "kernelspec": {
   "display_name": "Python 3",
   "language": "python",
   "name": "python3"
  },
  "language_info": {
   "codemirror_mode": {
    "name": "ipython",
    "version": 3
   },
   "file_extension": ".py",
   "mimetype": "text/x-python",
   "name": "python",
   "nbconvert_exporter": "python",
   "pygments_lexer": "ipython3",
   "version": "3.7.3"
  }
 },
 "nbformat": 4,
 "nbformat_minor": 2
}
