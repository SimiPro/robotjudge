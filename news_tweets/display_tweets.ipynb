{
 "cells": [
  {
   "cell_type": "code",
   "execution_count": 2,
   "metadata": {},
   "outputs": [
    {
     "name": "stdout",
     "output_type": "stream",
     "text": [
      "num tweets: 34968\n"
     ]
    },
    {
     "data": {
      "text/html": [
       "<div>\n",
       "<style scoped>\n",
       "    .dataframe tbody tr th:only-of-type {\n",
       "        vertical-align: middle;\n",
       "    }\n",
       "\n",
       "    .dataframe tbody tr th {\n",
       "        vertical-align: top;\n",
       "    }\n",
       "\n",
       "    .dataframe thead th {\n",
       "        text-align: right;\n",
       "    }\n",
       "</style>\n",
       "<table border=\"1\" class=\"dataframe\">\n",
       "  <thead>\n",
       "    <tr style=\"text-align: right;\">\n",
       "      <th></th>\n",
       "      <th>hashtags</th>\n",
       "      <th>text</th>\n",
       "      <th>user</th>\n",
       "      <th>user_location</th>\n",
       "      <th>created_at</th>\n",
       "    </tr>\n",
       "  </thead>\n",
       "  <tbody>\n",
       "    <tr>\n",
       "      <th>0</th>\n",
       "      <td>['BREAKING']</td>\n",
       "      <td>RT @BreakingF24: #BREAKING - Revolutionary Cub...</td>\n",
       "      <td>FRANCE24</td>\n",
       "      <td>Paris, France</td>\n",
       "      <td>Sat Nov 26 05:46:06 +0000 2016</td>\n",
       "    </tr>\n",
       "    <tr>\n",
       "      <th>1</th>\n",
       "      <td>['Cuba', 'VOAalert']</td>\n",
       "      <td>RT @masalinasVOA: White House statement on the...</td>\n",
       "      <td>VOANews</td>\n",
       "      <td>NaN</td>\n",
       "      <td>Sat Nov 26 15:03:16 +0000 2016</td>\n",
       "    </tr>\n",
       "    <tr>\n",
       "      <th>2</th>\n",
       "      <td>['PresidentElectDonaldTrump', 'Cuba', 'FidelCa...</td>\n",
       "      <td>RT @masalinasVOA: #PresidentElectDonaldTrump s...</td>\n",
       "      <td>VOANews</td>\n",
       "      <td>NaN</td>\n",
       "      <td>Sat Nov 26 15:40:47 +0000 2016</td>\n",
       "    </tr>\n",
       "    <tr>\n",
       "      <th>3</th>\n",
       "      <td>['Florida', 'FidelCastro']</td>\n",
       "      <td>RT @W7VOA: #Florida's @marcorubio calls @POTUS...</td>\n",
       "      <td>VOANews</td>\n",
       "      <td>NaN</td>\n",
       "      <td>Sat Nov 26 15:54:01 +0000 2016</td>\n",
       "    </tr>\n",
       "    <tr>\n",
       "      <th>4</th>\n",
       "      <td>['FidelCastro']</td>\n",
       "      <td>RT @W7VOA: #FidelCastro a \"brutal dictator\" wi...</td>\n",
       "      <td>VOANews</td>\n",
       "      <td>NaN</td>\n",
       "      <td>Sat Nov 26 15:54:07 +0000 2016</td>\n",
       "    </tr>\n",
       "  </tbody>\n",
       "</table>\n",
       "</div>"
      ],
      "text/plain": [
       "                                            hashtags  \\\n",
       "0                                       ['BREAKING']   \n",
       "1                               ['Cuba', 'VOAalert']   \n",
       "2  ['PresidentElectDonaldTrump', 'Cuba', 'FidelCa...   \n",
       "3                         ['Florida', 'FidelCastro']   \n",
       "4                                    ['FidelCastro']   \n",
       "\n",
       "                                                text      user  user_location  \\\n",
       "0  RT @BreakingF24: #BREAKING - Revolutionary Cub...  FRANCE24  Paris, France   \n",
       "1  RT @masalinasVOA: White House statement on the...   VOANews            NaN   \n",
       "2  RT @masalinasVOA: #PresidentElectDonaldTrump s...   VOANews            NaN   \n",
       "3  RT @W7VOA: #Florida's @marcorubio calls @POTUS...   VOANews            NaN   \n",
       "4  RT @W7VOA: #FidelCastro a \"brutal dictator\" wi...   VOANews            NaN   \n",
       "\n",
       "                       created_at  \n",
       "0  Sat Nov 26 05:46:06 +0000 2016  \n",
       "1  Sat Nov 26 15:03:16 +0000 2016  \n",
       "2  Sat Nov 26 15:40:47 +0000 2016  \n",
       "3  Sat Nov 26 15:54:01 +0000 2016  \n",
       "4  Sat Nov 26 15:54:07 +0000 2016  "
      ]
     },
     "execution_count": 2,
     "metadata": {},
     "output_type": "execute_result"
    }
   ],
   "source": [
    "import pandas as pd\n",
    "tweets = pd.read_csv(\"news_outlts-tweets.csv\", header=None, names=['hashtags', 'text', 'user', 'user_location', 'created_at'])  \n",
    "print('num tweets: {}'.format(len(tweets)))\n",
    "tweets.head()"
   ]
  },
  {
   "cell_type": "code",
   "execution_count": null,
   "metadata": {},
   "outputs": [],
   "source": []
  }
 ],
 "metadata": {
  "kernelspec": {
   "display_name": "Python 3",
   "language": "python",
   "name": "python3"
  },
  "language_info": {
   "codemirror_mode": {
    "name": "ipython",
    "version": 3
   },
   "file_extension": ".py",
   "mimetype": "text/x-python",
   "name": "python",
   "nbconvert_exporter": "python",
   "pygments_lexer": "ipython3",
   "version": "3.7.2"
  }
 },
 "nbformat": 4,
 "nbformat_minor": 2
}
