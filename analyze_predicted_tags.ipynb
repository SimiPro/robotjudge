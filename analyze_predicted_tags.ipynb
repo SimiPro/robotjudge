{
 "cells": [
  {
   "cell_type": "code",
   "execution_count": 123,
   "metadata": {},
   "outputs": [],
   "source": [
    "import glob\n",
    "import collections\n",
    "from datetime import datetime\n",
    "\n",
    "\n",
    "independent = set(['King'])\n",
    "democrats = set(['Stabenow', 'Feinstein', 'klobuchar', 'Menendez', 'Cantwell', 'Warren', 'Gillibrand', \n",
    "                'Tester', 'Manchin', 'Murphy','Baldwin',  'hirono', 'Carper', 'Sanders', 'kaine', 'Brown', \n",
    "                'Heinrich', 'Whitehouse', 'Casey'])\n",
    "republican = set(['Wicker', 'Barrasso', 'Fischer', 'Cruz'])\n",
    "\n",
    "# Ana\n",
    "NUM_TAGS = 5\n",
    "count_by_tags = collections.defaultdict(int)\n",
    "tags_by_date = collections.defaultdict(list)\n",
    "hashtags_min_date = {}\n",
    "hashtags_max_date = {}\n",
    "date_tag = collections.defaultdict(list)\n",
    "date_tag_republican = collections.defaultdict(list)\n",
    "date_tag_democrats = collections.defaultdict(list)\n",
    "\n",
    "\n",
    "def get_tags_by_name(name):\n",
    "    tags = collections.defaultdict(list)\n",
    "    dates = list(glob.glob(f\"/home/simi/projects/tweet2vec/results/{name}/*\"))\n",
    "    for path_date in dates:\n",
    "        date = path_date.rindex('/')\n",
    "        date = path_date[date+1:]\n",
    "        path = f\"{path_date}//predicted_tags.txt\"\n",
    "        \n",
    "        with open(path, 'r') as f:\n",
    "            line = f.readline()\n",
    "            while line:\n",
    "                str_tags = line.replace('\\n', '').split(' ')\n",
    "                str_tags = [t.strip() for t in str_tags][:NUM_TAGS]\n",
    "                if 'UNK' != str_tags[0]:\n",
    "                    for t in str_tags: \n",
    "                        count_by_tags[t] += 1\n",
    "                    tags_by_date[date].extend(str_tags)\n",
    "                    tags[date].append(str_tags) \n",
    "                    \n",
    "                    date_in_type = [int(x) for x in date.split('-')]\n",
    "                    date_in_type = datetime(date_in_type[0], date_in_type[1], date_in_type[2])\n",
    "                    for tag in str_tags:\n",
    "                        date_tag[tag].append([str(date_in_type.date()), 1])\n",
    "                        \n",
    "                        if name in republican:\n",
    "                            date_tag_republican[tag].append([str(date_in_type.date()), 1])\n",
    "                        else:\n",
    "                            date_tag_democrats[tag].append([str(date_in_type.date()), 1])\n",
    "                        \n",
    "\n",
    "                        if tag not in hashtags_min_date:\n",
    "                            hashtags_min_date[tag] = date_in_type\n",
    "                            hashtags_max_date[tag] = date_in_type\n",
    "\n",
    "                        if date_in_type < hashtags_min_date[tag]:\n",
    "                            hashtags_min_date[tag] = date_in_type\n",
    "                        if date_in_type > hashtags_max_date[tag]:\n",
    "                            hashtags_max_date[tag] = date_in_type\n",
    "                    \n",
    "                line = f.readline()\n",
    "\n",
    "    return tags\n",
    "    \n",
    "tags_by_name = {}\n",
    "names =  list(glob.glob(f\"/home/simi/projects/tweet2vec/results/*\"))\n",
    "for path_name in names:\n",
    "    name = path_name.rindex('/')\n",
    "    name = path_name[name+1:]\n",
    "    tags_by_name[name] = get_tags_by_name(name)"
   ]
  },
  {
   "cell_type": "code",
   "execution_count": 124,
   "metadata": {},
   "outputs": [],
   "source": [
    "l_tags = [(v, k) for (k,v) in count_by_tags.items()]\n",
    "l_tags.sort(reverse=True)"
   ]
  },
  {
   "cell_type": "code",
   "execution_count": null,
   "metadata": {},
   "outputs": [],
   "source": []
  },
  {
   "cell_type": "code",
   "execution_count": 125,
   "metadata": {},
   "outputs": [
    {
     "data": {
      "text/html": [
       "        <script type=\"text/javascript\">\n",
       "        window.PlotlyConfig = {MathJaxConfig: 'local'};\n",
       "        if (window.MathJax) {MathJax.Hub.Config({SVG: {font: \"STIX-Web\"}});}\n",
       "        if (typeof require !== 'undefined') {\n",
       "        require.undef(\"plotly\");\n",
       "        requirejs.config({\n",
       "            paths: {\n",
       "                'plotly': ['https://cdn.plot.ly/plotly-latest.min']\n",
       "            }\n",
       "        });\n",
       "        require(['plotly'], function(Plotly) {\n",
       "            window._Plotly = Plotly;\n",
       "        });\n",
       "        }\n",
       "        </script>\n",
       "        "
      ]
     },
     "metadata": {},
     "output_type": "display_data"
    },
    {
     "data": {
      "application/vnd.plotly.v1+json": {
       "config": {
        "linkText": "Export to plot.ly",
        "plotlyServerURL": "https://plot.ly",
        "showLink": false
       },
       "data": [
        {
         "marker": {
          "color": "white"
         },
         "name": "",
         "type": "scatter",
         "uid": "84eca4b7-e5b9-4d84-a388-a2dfba6d9460",
         "x": [
          "2018-1-18",
          "2018-5-22"
         ],
         "y": [
          0,
          0
         ]
        },
        {
         "marker": {
          "color": "white"
         },
         "name": "",
         "type": "scatter",
         "uid": "45247f58-31ae-48ca-a568-99d6a30e1f7a",
         "x": [
          "2018-1-18",
          "2018-5-22"
         ],
         "y": [
          1,
          1
         ]
        },
        {
         "marker": {
          "color": "white"
         },
         "name": "",
         "type": "scatter",
         "uid": "a3b1532e-e0d5-484b-bc37-368411dba74e",
         "x": [
          "2017-6-21",
          "2018-5-16"
         ],
         "y": [
          2,
          2
         ]
        },
        {
         "marker": {
          "color": "white"
         },
         "name": "",
         "type": "scatter",
         "uid": "3692f769-7b33-4a6b-9414-8a990cb193f0",
         "x": [
          "2017-6-21",
          "2018-5-22"
         ],
         "y": [
          3,
          3
         ]
        },
        {
         "marker": {
          "color": "white"
         },
         "name": "",
         "type": "scatter",
         "uid": "21522b9d-0b3a-44a7-842d-018cec8d598b",
         "x": [
          "2018-1-18",
          "2018-5-16"
         ],
         "y": [
          4,
          4
         ]
        },
        {
         "marker": {
          "color": "white"
         },
         "name": "",
         "type": "scatter",
         "uid": "b5f208ce-8de2-4fe3-b361-3152bcf4afee",
         "x": [
          "2018-1-18",
          "2018-5-16"
         ],
         "y": [
          5,
          5
         ]
        },
        {
         "marker": {
          "color": "white"
         },
         "name": "",
         "type": "scatter",
         "uid": "8ff1833f-d9c3-410b-9c0f-b763e4861766",
         "x": [
          "2017-6-21",
          "2018-5-22"
         ],
         "y": [
          6,
          6
         ]
        },
        {
         "marker": {
          "color": "white"
         },
         "name": "",
         "type": "scatter",
         "uid": "9637dc9f-68d1-48ea-86ad-3b50abbd9085",
         "x": [
          "2017-6-21",
          "2018-5-22"
         ],
         "y": [
          7,
          7
         ]
        },
        {
         "marker": {
          "color": "white"
         },
         "name": "",
         "type": "scatter",
         "uid": "53ae1a0a-228f-4cd4-8fb2-58f7cfd8c2ac",
         "x": [
          "2017-6-21",
          "2018-5-22"
         ],
         "y": [
          8,
          8
         ]
        },
        {
         "marker": {
          "color": "white"
         },
         "name": "",
         "type": "scatter",
         "uid": "052f2f25-6c3f-4342-bcd9-29957cfe36e7",
         "x": [
          "2017-6-15",
          "2018-5-16"
         ],
         "y": [
          9,
          9
         ]
        },
        {
         "marker": {
          "color": "white"
         },
         "name": "",
         "type": "scatter",
         "uid": "e4b92b12-c9e7-4cf9-8720-5de863135c33",
         "x": [
          "2017-6-21",
          "2018-5-22"
         ],
         "y": [
          10,
          10
         ]
        },
        {
         "marker": {
          "color": "white"
         },
         "name": "",
         "type": "scatter",
         "uid": "543d72fc-fff1-453b-bca8-991749e3c6ab",
         "x": [
          "2017-6-21",
          "2018-5-22"
         ],
         "y": [
          11,
          11
         ]
        },
        {
         "marker": {
          "color": "white"
         },
         "name": "",
         "type": "scatter",
         "uid": "e4794169-4dcf-4fe5-8144-2306898eb7b0",
         "x": [
          "2017-6-21",
          "2018-5-22"
         ],
         "y": [
          12,
          12
         ]
        },
        {
         "marker": {
          "color": "white"
         },
         "name": "",
         "type": "scatter",
         "uid": "9d8c33b9-5d26-475b-b8e5-e05381f22755",
         "x": [
          "2017-6-21",
          "2018-5-22"
         ],
         "y": [
          13,
          13
         ]
        },
        {
         "marker": {
          "color": "white"
         },
         "name": "",
         "type": "scatter",
         "uid": "852b1220-316d-4c87-8191-6e2dac3bfb8f",
         "x": [
          "2017-6-21",
          "2018-5-16"
         ],
         "y": [
          14,
          14
         ]
        },
        {
         "marker": {
          "color": "white"
         },
         "name": "",
         "type": "scatter",
         "uid": "52e91dc2-6a5e-48e0-9b1b-a0ab2f5a89df",
         "x": [
          "2017-6-21",
          "2018-5-16"
         ],
         "y": [
          15,
          15
         ]
        },
        {
         "marker": {
          "color": "white"
         },
         "name": "",
         "type": "scatter",
         "uid": "2dcd0b86-666e-4aef-8fa0-e05dd5f43643",
         "x": [
          "2017-6-21",
          "2018-5-22"
         ],
         "y": [
          16,
          16
         ]
        },
        {
         "marker": {
          "color": "white"
         },
         "name": "",
         "type": "scatter",
         "uid": "6588c316-e43b-424c-8221-35780942b0df",
         "x": [
          "2017-6-21",
          "2018-5-16"
         ],
         "y": [
          17,
          17
         ]
        },
        {
         "marker": {
          "color": "white"
         },
         "name": "",
         "type": "scatter",
         "uid": "2598283b-cc65-4dc3-b855-0a86b4c17ef0",
         "x": [
          "2017-6-15",
          "2018-5-16"
         ],
         "y": [
          18,
          18
         ]
        },
        {
         "marker": {
          "color": "white"
         },
         "name": "",
         "type": "scatter",
         "uid": "78c2719b-3f3d-4650-8d7b-14383711a2f4",
         "x": [
          "2017-6-15",
          "2018-5-22"
         ],
         "y": [
          19,
          19
         ]
        },
        {
         "hoverinfo": "none",
         "marker": {
          "color": "rgb(31, 119, 180)",
          "size": 1
         },
         "name": "117 < 146",
         "showlegend": true,
         "type": "scatter",
         "uid": "b9fa0075-3e76-4d99-b24e-d1223778378f",
         "x": [
          "2017-6-15",
          "2017-6-15"
         ],
         "y": [
          0,
          0
         ]
        },
        {
         "hoverinfo": "none",
         "marker": {
          "color": "rgb(255, 127, 14)",
          "size": 1
         },
         "name": "175 < 205",
         "showlegend": true,
         "type": "scatter",
         "uid": "ef61daa3-9fc6-45a2-aacc-31e0e5159a09",
         "x": [
          "2017-6-15",
          "2017-6-15"
         ],
         "y": [
          1,
          1
         ]
        },
        {
         "hoverinfo": "none",
         "marker": {
          "color": "rgb(44, 160, 44)",
          "size": 1
         },
         "name": "263 < 293",
         "showlegend": true,
         "type": "scatter",
         "uid": "d53e399b-530d-4f08-9cd0-a732f0518f1d",
         "x": [
          "2017-6-15",
          "2017-6-15"
         ],
         "y": [
          2,
          2
         ]
        },
        {
         "hoverinfo": "none",
         "marker": {
          "color": "rgb(214, 39, 40)",
          "size": 1
         },
         "name": "29 < 58",
         "showlegend": true,
         "type": "scatter",
         "uid": "f5b6f759-a6d2-4f5e-9ba8-9f9d1ed4feab",
         "x": [
          "2017-6-15",
          "2017-6-15"
         ],
         "y": [
          3,
          3
         ]
        },
        {
         "hoverinfo": "none",
         "marker": {
          "color": "rgb(148, 103, 189)",
          "size": 1
         },
         "name": "58 < 87",
         "showlegend": true,
         "type": "scatter",
         "uid": "74effa74-0914-4b88-a91d-517e099ba62b",
         "x": [
          "2017-6-15",
          "2017-6-15"
         ],
         "y": [
          4,
          4
         ]
        },
        {
         "hoverinfo": "none",
         "marker": {
          "color": "rgb(140, 86, 75)",
          "size": 1
         },
         "name": "87 < 117",
         "showlegend": true,
         "type": "scatter",
         "uid": "fe9125ed-39fb-4a9d-a328-50b9230e21be",
         "x": [
          "2017-6-15",
          "2017-6-15"
         ],
         "y": [
          5,
          5
         ]
        }
       ],
       "layout": {
        "height": 600,
        "hovermode": "closest",
        "shapes": [
         {
          "fillcolor": "rgb(214, 39, 40)",
          "line": {
           "width": 0
          },
          "opacity": 1,
          "type": "rect",
          "x0": "2018-1-18",
          "x1": "2018-5-22",
          "xref": "x",
          "y0": -0.25,
          "y1": 0.25,
          "yref": "y"
         },
         {
          "fillcolor": "rgb(214, 39, 40)",
          "line": {
           "width": 0
          },
          "opacity": 1,
          "type": "rect",
          "x0": "2018-1-18",
          "x1": "2018-5-22",
          "xref": "x",
          "y0": 0.75,
          "y1": 1.25,
          "yref": "y"
         },
         {
          "fillcolor": "rgb(214, 39, 40)",
          "line": {
           "width": 0
          },
          "opacity": 1,
          "type": "rect",
          "x0": "2017-6-21",
          "x1": "2018-5-16",
          "xref": "x",
          "y0": 1.75,
          "y1": 2.25,
          "yref": "y"
         },
         {
          "fillcolor": "rgb(214, 39, 40)",
          "line": {
           "width": 0
          },
          "opacity": 1,
          "type": "rect",
          "x0": "2017-6-21",
          "x1": "2018-5-22",
          "xref": "x",
          "y0": 2.75,
          "y1": 3.25,
          "yref": "y"
         },
         {
          "fillcolor": "rgb(214, 39, 40)",
          "line": {
           "width": 0
          },
          "opacity": 1,
          "type": "rect",
          "x0": "2018-1-18",
          "x1": "2018-5-16",
          "xref": "x",
          "y0": 3.75,
          "y1": 4.25,
          "yref": "y"
         },
         {
          "fillcolor": "rgb(214, 39, 40)",
          "line": {
           "width": 0
          },
          "opacity": 1,
          "type": "rect",
          "x0": "2018-1-18",
          "x1": "2018-5-16",
          "xref": "x",
          "y0": 4.75,
          "y1": 5.25,
          "yref": "y"
         },
         {
          "fillcolor": "rgb(214, 39, 40)",
          "line": {
           "width": 0
          },
          "opacity": 1,
          "type": "rect",
          "x0": "2017-6-21",
          "x1": "2018-5-22",
          "xref": "x",
          "y0": 5.75,
          "y1": 6.25,
          "yref": "y"
         },
         {
          "fillcolor": "rgb(214, 39, 40)",
          "line": {
           "width": 0
          },
          "opacity": 1,
          "type": "rect",
          "x0": "2017-6-21",
          "x1": "2018-5-22",
          "xref": "x",
          "y0": 6.75,
          "y1": 7.25,
          "yref": "y"
         },
         {
          "fillcolor": "rgb(148, 103, 189)",
          "line": {
           "width": 0
          },
          "opacity": 1,
          "type": "rect",
          "x0": "2017-6-21",
          "x1": "2018-5-22",
          "xref": "x",
          "y0": 7.75,
          "y1": 8.25,
          "yref": "y"
         },
         {
          "fillcolor": "rgb(148, 103, 189)",
          "line": {
           "width": 0
          },
          "opacity": 1,
          "type": "rect",
          "x0": "2017-6-15",
          "x1": "2018-5-16",
          "xref": "x",
          "y0": 8.75,
          "y1": 9.25,
          "yref": "y"
         },
         {
          "fillcolor": "rgb(148, 103, 189)",
          "line": {
           "width": 0
          },
          "opacity": 1,
          "type": "rect",
          "x0": "2017-6-21",
          "x1": "2018-5-22",
          "xref": "x",
          "y0": 9.75,
          "y1": 10.25,
          "yref": "y"
         },
         {
          "fillcolor": "rgb(148, 103, 189)",
          "line": {
           "width": 0
          },
          "opacity": 1,
          "type": "rect",
          "x0": "2017-6-21",
          "x1": "2018-5-22",
          "xref": "x",
          "y0": 10.75,
          "y1": 11.25,
          "yref": "y"
         },
         {
          "fillcolor": "rgb(148, 103, 189)",
          "line": {
           "width": 0
          },
          "opacity": 1,
          "type": "rect",
          "x0": "2017-6-21",
          "x1": "2018-5-22",
          "xref": "x",
          "y0": 11.75,
          "y1": 12.25,
          "yref": "y"
         },
         {
          "fillcolor": "rgb(140, 86, 75)",
          "line": {
           "width": 0
          },
          "opacity": 1,
          "type": "rect",
          "x0": "2017-6-21",
          "x1": "2018-5-22",
          "xref": "x",
          "y0": 12.75,
          "y1": 13.25,
          "yref": "y"
         },
         {
          "fillcolor": "rgb(140, 86, 75)",
          "line": {
           "width": 0
          },
          "opacity": 1,
          "type": "rect",
          "x0": "2017-6-21",
          "x1": "2018-5-16",
          "xref": "x",
          "y0": 13.75,
          "y1": 14.25,
          "yref": "y"
         },
         {
          "fillcolor": "rgb(140, 86, 75)",
          "line": {
           "width": 0
          },
          "opacity": 1,
          "type": "rect",
          "x0": "2017-6-21",
          "x1": "2018-5-16",
          "xref": "x",
          "y0": 14.75,
          "y1": 15.25,
          "yref": "y"
         },
         {
          "fillcolor": "rgb(31, 119, 180)",
          "line": {
           "width": 0
          },
          "opacity": 1,
          "type": "rect",
          "x0": "2017-6-21",
          "x1": "2018-5-22",
          "xref": "x",
          "y0": 15.75,
          "y1": 16.25,
          "yref": "y"
         },
         {
          "fillcolor": "rgb(31, 119, 180)",
          "line": {
           "width": 0
          },
          "opacity": 1,
          "type": "rect",
          "x0": "2017-6-21",
          "x1": "2018-5-16",
          "xref": "x",
          "y0": 16.75,
          "y1": 17.25,
          "yref": "y"
         },
         {
          "fillcolor": "rgb(255, 127, 14)",
          "line": {
           "width": 0
          },
          "opacity": 1,
          "type": "rect",
          "x0": "2017-6-15",
          "x1": "2018-5-16",
          "xref": "x",
          "y0": 17.75,
          "y1": 18.25,
          "yref": "y"
         },
         {
          "fillcolor": "rgb(44, 160, 44)",
          "line": {
           "width": 0
          },
          "opacity": 1,
          "type": "rect",
          "x0": "2017-6-15",
          "x1": "2018-5-22",
          "xref": "x",
          "y0": 18.75,
          "y1": 19.25,
          "yref": "y"
         }
        ],
        "showlegend": true,
        "title": {
         "text": "Hashtag Over Time"
        },
        "width": 900,
        "xaxis": {
         "rangeselector": {
          "buttons": [
           {
            "count": 7,
            "label": "1w",
            "step": "day",
            "stepmode": "backward"
           },
           {
            "count": 1,
            "label": "1m",
            "step": "month",
            "stepmode": "backward"
           },
           {
            "count": 6,
            "label": "6m",
            "step": "month",
            "stepmode": "backward"
           },
           {
            "count": 1,
            "label": "YTD",
            "step": "year",
            "stepmode": "todate"
           },
           {
            "count": 1,
            "label": "1y",
            "step": "year",
            "stepmode": "backward"
           },
           {
            "step": "all"
           }
          ]
         },
         "showgrid": true,
         "type": "date",
         "zeroline": false
        },
        "yaxis": {
         "autorange": false,
         "range": [
          -1,
          21
         ],
         "showgrid": false,
         "ticktext": [
          "Florida",
          "Kentucky",
          "Trumpcare",
          "Russia",
          "Kavanaugh",
          "utpol",
          "WV",
          "ACA",
          "healthcare",
          "NV",
          "FarmBill",
          "DACA",
          "climatechange",
          "CHIP",
          "SCOTUS",
          "jobs",
          "mtpol",
          "NM",
          "Ohio",
          "UNK"
         ],
         "tickvals": [
          0,
          1,
          2,
          3,
          4,
          5,
          6,
          7,
          8,
          9,
          10,
          11,
          12,
          13,
          14,
          15,
          16,
          17,
          18,
          19
         ],
         "zeroline": false
        }
       }
      },
      "text/html": [
       "<div>\n",
       "        \n",
       "        \n",
       "            <div id=\"d8415c82-98da-4381-8391-0ceab140e9c5\" class=\"plotly-graph-div\" style=\"height:600px; width:900px;\"></div>\n",
       "            <script type=\"text/javascript\">\n",
       "                require([\"plotly\"], function(Plotly) {\n",
       "                    window.PLOTLYENV=window.PLOTLYENV || {};\n",
       "                    window.PLOTLYENV.BASE_URL='https://plot.ly';\n",
       "                    \n",
       "                if (document.getElementById(\"d8415c82-98da-4381-8391-0ceab140e9c5\")) {\n",
       "                    Plotly.newPlot(\n",
       "                        'd8415c82-98da-4381-8391-0ceab140e9c5',\n",
       "                        [{\"marker\": {\"color\": \"white\"}, \"name\": \"\", \"type\": \"scatter\", \"uid\": \"84eca4b7-e5b9-4d84-a388-a2dfba6d9460\", \"x\": [\"2018-1-18\", \"2018-5-22\"], \"y\": [0, 0]}, {\"marker\": {\"color\": \"white\"}, \"name\": \"\", \"type\": \"scatter\", \"uid\": \"45247f58-31ae-48ca-a568-99d6a30e1f7a\", \"x\": [\"2018-1-18\", \"2018-5-22\"], \"y\": [1, 1]}, {\"marker\": {\"color\": \"white\"}, \"name\": \"\", \"type\": \"scatter\", \"uid\": \"a3b1532e-e0d5-484b-bc37-368411dba74e\", \"x\": [\"2017-6-21\", \"2018-5-16\"], \"y\": [2, 2]}, {\"marker\": {\"color\": \"white\"}, \"name\": \"\", \"type\": \"scatter\", \"uid\": \"3692f769-7b33-4a6b-9414-8a990cb193f0\", \"x\": [\"2017-6-21\", \"2018-5-22\"], \"y\": [3, 3]}, {\"marker\": {\"color\": \"white\"}, \"name\": \"\", \"type\": \"scatter\", \"uid\": \"21522b9d-0b3a-44a7-842d-018cec8d598b\", \"x\": [\"2018-1-18\", \"2018-5-16\"], \"y\": [4, 4]}, {\"marker\": {\"color\": \"white\"}, \"name\": \"\", \"type\": \"scatter\", \"uid\": \"b5f208ce-8de2-4fe3-b361-3152bcf4afee\", \"x\": [\"2018-1-18\", \"2018-5-16\"], \"y\": [5, 5]}, {\"marker\": {\"color\": \"white\"}, \"name\": \"\", \"type\": \"scatter\", \"uid\": \"8ff1833f-d9c3-410b-9c0f-b763e4861766\", \"x\": [\"2017-6-21\", \"2018-5-22\"], \"y\": [6, 6]}, {\"marker\": {\"color\": \"white\"}, \"name\": \"\", \"type\": \"scatter\", \"uid\": \"9637dc9f-68d1-48ea-86ad-3b50abbd9085\", \"x\": [\"2017-6-21\", \"2018-5-22\"], \"y\": [7, 7]}, {\"marker\": {\"color\": \"white\"}, \"name\": \"\", \"type\": \"scatter\", \"uid\": \"53ae1a0a-228f-4cd4-8fb2-58f7cfd8c2ac\", \"x\": [\"2017-6-21\", \"2018-5-22\"], \"y\": [8, 8]}, {\"marker\": {\"color\": \"white\"}, \"name\": \"\", \"type\": \"scatter\", \"uid\": \"052f2f25-6c3f-4342-bcd9-29957cfe36e7\", \"x\": [\"2017-6-15\", \"2018-5-16\"], \"y\": [9, 9]}, {\"marker\": {\"color\": \"white\"}, \"name\": \"\", \"type\": \"scatter\", \"uid\": \"e4b92b12-c9e7-4cf9-8720-5de863135c33\", \"x\": [\"2017-6-21\", \"2018-5-22\"], \"y\": [10, 10]}, {\"marker\": {\"color\": \"white\"}, \"name\": \"\", \"type\": \"scatter\", \"uid\": \"543d72fc-fff1-453b-bca8-991749e3c6ab\", \"x\": [\"2017-6-21\", \"2018-5-22\"], \"y\": [11, 11]}, {\"marker\": {\"color\": \"white\"}, \"name\": \"\", \"type\": \"scatter\", \"uid\": \"e4794169-4dcf-4fe5-8144-2306898eb7b0\", \"x\": [\"2017-6-21\", \"2018-5-22\"], \"y\": [12, 12]}, {\"marker\": {\"color\": \"white\"}, \"name\": \"\", \"type\": \"scatter\", \"uid\": \"9d8c33b9-5d26-475b-b8e5-e05381f22755\", \"x\": [\"2017-6-21\", \"2018-5-22\"], \"y\": [13, 13]}, {\"marker\": {\"color\": \"white\"}, \"name\": \"\", \"type\": \"scatter\", \"uid\": \"852b1220-316d-4c87-8191-6e2dac3bfb8f\", \"x\": [\"2017-6-21\", \"2018-5-16\"], \"y\": [14, 14]}, {\"marker\": {\"color\": \"white\"}, \"name\": \"\", \"type\": \"scatter\", \"uid\": \"52e91dc2-6a5e-48e0-9b1b-a0ab2f5a89df\", \"x\": [\"2017-6-21\", \"2018-5-16\"], \"y\": [15, 15]}, {\"marker\": {\"color\": \"white\"}, \"name\": \"\", \"type\": \"scatter\", \"uid\": \"2dcd0b86-666e-4aef-8fa0-e05dd5f43643\", \"x\": [\"2017-6-21\", \"2018-5-22\"], \"y\": [16, 16]}, {\"marker\": {\"color\": \"white\"}, \"name\": \"\", \"type\": \"scatter\", \"uid\": \"6588c316-e43b-424c-8221-35780942b0df\", \"x\": [\"2017-6-21\", \"2018-5-16\"], \"y\": [17, 17]}, {\"marker\": {\"color\": \"white\"}, \"name\": \"\", \"type\": \"scatter\", \"uid\": \"2598283b-cc65-4dc3-b855-0a86b4c17ef0\", \"x\": [\"2017-6-15\", \"2018-5-16\"], \"y\": [18, 18]}, {\"marker\": {\"color\": \"white\"}, \"name\": \"\", \"type\": \"scatter\", \"uid\": \"78c2719b-3f3d-4650-8d7b-14383711a2f4\", \"x\": [\"2017-6-15\", \"2018-5-22\"], \"y\": [19, 19]}, {\"hoverinfo\": \"none\", \"marker\": {\"color\": \"rgb(31, 119, 180)\", \"size\": 1}, \"name\": \"117 < 146\", \"showlegend\": true, \"type\": \"scatter\", \"uid\": \"b9fa0075-3e76-4d99-b24e-d1223778378f\", \"x\": [\"2017-6-15\", \"2017-6-15\"], \"y\": [0, 0]}, {\"hoverinfo\": \"none\", \"marker\": {\"color\": \"rgb(255, 127, 14)\", \"size\": 1}, \"name\": \"175 < 205\", \"showlegend\": true, \"type\": \"scatter\", \"uid\": \"ef61daa3-9fc6-45a2-aacc-31e0e5159a09\", \"x\": [\"2017-6-15\", \"2017-6-15\"], \"y\": [1, 1]}, {\"hoverinfo\": \"none\", \"marker\": {\"color\": \"rgb(44, 160, 44)\", \"size\": 1}, \"name\": \"263 < 293\", \"showlegend\": true, \"type\": \"scatter\", \"uid\": \"d53e399b-530d-4f08-9cd0-a732f0518f1d\", \"x\": [\"2017-6-15\", \"2017-6-15\"], \"y\": [2, 2]}, {\"hoverinfo\": \"none\", \"marker\": {\"color\": \"rgb(214, 39, 40)\", \"size\": 1}, \"name\": \"29 < 58\", \"showlegend\": true, \"type\": \"scatter\", \"uid\": \"f5b6f759-a6d2-4f5e-9ba8-9f9d1ed4feab\", \"x\": [\"2017-6-15\", \"2017-6-15\"], \"y\": [3, 3]}, {\"hoverinfo\": \"none\", \"marker\": {\"color\": \"rgb(148, 103, 189)\", \"size\": 1}, \"name\": \"58 < 87\", \"showlegend\": true, \"type\": \"scatter\", \"uid\": \"74effa74-0914-4b88-a91d-517e099ba62b\", \"x\": [\"2017-6-15\", \"2017-6-15\"], \"y\": [4, 4]}, {\"hoverinfo\": \"none\", \"marker\": {\"color\": \"rgb(140, 86, 75)\", \"size\": 1}, \"name\": \"87 < 117\", \"showlegend\": true, \"type\": \"scatter\", \"uid\": \"fe9125ed-39fb-4a9d-a328-50b9230e21be\", \"x\": [\"2017-6-15\", \"2017-6-15\"], \"y\": [5, 5]}],\n",
       "                        {\"height\": 600, \"hovermode\": \"closest\", \"shapes\": [{\"fillcolor\": \"rgb(214, 39, 40)\", \"line\": {\"width\": 0}, \"opacity\": 1, \"type\": \"rect\", \"x0\": \"2018-1-18\", \"x1\": \"2018-5-22\", \"xref\": \"x\", \"y0\": -0.25, \"y1\": 0.25, \"yref\": \"y\"}, {\"fillcolor\": \"rgb(214, 39, 40)\", \"line\": {\"width\": 0}, \"opacity\": 1, \"type\": \"rect\", \"x0\": \"2018-1-18\", \"x1\": \"2018-5-22\", \"xref\": \"x\", \"y0\": 0.75, \"y1\": 1.25, \"yref\": \"y\"}, {\"fillcolor\": \"rgb(214, 39, 40)\", \"line\": {\"width\": 0}, \"opacity\": 1, \"type\": \"rect\", \"x0\": \"2017-6-21\", \"x1\": \"2018-5-16\", \"xref\": \"x\", \"y0\": 1.75, \"y1\": 2.25, \"yref\": \"y\"}, {\"fillcolor\": \"rgb(214, 39, 40)\", \"line\": {\"width\": 0}, \"opacity\": 1, \"type\": \"rect\", \"x0\": \"2017-6-21\", \"x1\": \"2018-5-22\", \"xref\": \"x\", \"y0\": 2.75, \"y1\": 3.25, \"yref\": \"y\"}, {\"fillcolor\": \"rgb(214, 39, 40)\", \"line\": {\"width\": 0}, \"opacity\": 1, \"type\": \"rect\", \"x0\": \"2018-1-18\", \"x1\": \"2018-5-16\", \"xref\": \"x\", \"y0\": 3.75, \"y1\": 4.25, \"yref\": \"y\"}, {\"fillcolor\": \"rgb(214, 39, 40)\", \"line\": {\"width\": 0}, \"opacity\": 1, \"type\": \"rect\", \"x0\": \"2018-1-18\", \"x1\": \"2018-5-16\", \"xref\": \"x\", \"y0\": 4.75, \"y1\": 5.25, \"yref\": \"y\"}, {\"fillcolor\": \"rgb(214, 39, 40)\", \"line\": {\"width\": 0}, \"opacity\": 1, \"type\": \"rect\", \"x0\": \"2017-6-21\", \"x1\": \"2018-5-22\", \"xref\": \"x\", \"y0\": 5.75, \"y1\": 6.25, \"yref\": \"y\"}, {\"fillcolor\": \"rgb(214, 39, 40)\", \"line\": {\"width\": 0}, \"opacity\": 1, \"type\": \"rect\", \"x0\": \"2017-6-21\", \"x1\": \"2018-5-22\", \"xref\": \"x\", \"y0\": 6.75, \"y1\": 7.25, \"yref\": \"y\"}, {\"fillcolor\": \"rgb(148, 103, 189)\", \"line\": {\"width\": 0}, \"opacity\": 1, \"type\": \"rect\", \"x0\": \"2017-6-21\", \"x1\": \"2018-5-22\", \"xref\": \"x\", \"y0\": 7.75, \"y1\": 8.25, \"yref\": \"y\"}, {\"fillcolor\": \"rgb(148, 103, 189)\", \"line\": {\"width\": 0}, \"opacity\": 1, \"type\": \"rect\", \"x0\": \"2017-6-15\", \"x1\": \"2018-5-16\", \"xref\": \"x\", \"y0\": 8.75, \"y1\": 9.25, \"yref\": \"y\"}, {\"fillcolor\": \"rgb(148, 103, 189)\", \"line\": {\"width\": 0}, \"opacity\": 1, \"type\": \"rect\", \"x0\": \"2017-6-21\", \"x1\": \"2018-5-22\", \"xref\": \"x\", \"y0\": 9.75, \"y1\": 10.25, \"yref\": \"y\"}, {\"fillcolor\": \"rgb(148, 103, 189)\", \"line\": {\"width\": 0}, \"opacity\": 1, \"type\": \"rect\", \"x0\": \"2017-6-21\", \"x1\": \"2018-5-22\", \"xref\": \"x\", \"y0\": 10.75, \"y1\": 11.25, \"yref\": \"y\"}, {\"fillcolor\": \"rgb(148, 103, 189)\", \"line\": {\"width\": 0}, \"opacity\": 1, \"type\": \"rect\", \"x0\": \"2017-6-21\", \"x1\": \"2018-5-22\", \"xref\": \"x\", \"y0\": 11.75, \"y1\": 12.25, \"yref\": \"y\"}, {\"fillcolor\": \"rgb(140, 86, 75)\", \"line\": {\"width\": 0}, \"opacity\": 1, \"type\": \"rect\", \"x0\": \"2017-6-21\", \"x1\": \"2018-5-22\", \"xref\": \"x\", \"y0\": 12.75, \"y1\": 13.25, \"yref\": \"y\"}, {\"fillcolor\": \"rgb(140, 86, 75)\", \"line\": {\"width\": 0}, \"opacity\": 1, \"type\": \"rect\", \"x0\": \"2017-6-21\", \"x1\": \"2018-5-16\", \"xref\": \"x\", \"y0\": 13.75, \"y1\": 14.25, \"yref\": \"y\"}, {\"fillcolor\": \"rgb(140, 86, 75)\", \"line\": {\"width\": 0}, \"opacity\": 1, \"type\": \"rect\", \"x0\": \"2017-6-21\", \"x1\": \"2018-5-16\", \"xref\": \"x\", \"y0\": 14.75, \"y1\": 15.25, \"yref\": \"y\"}, {\"fillcolor\": \"rgb(31, 119, 180)\", \"line\": {\"width\": 0}, \"opacity\": 1, \"type\": \"rect\", \"x0\": \"2017-6-21\", \"x1\": \"2018-5-22\", \"xref\": \"x\", \"y0\": 15.75, \"y1\": 16.25, \"yref\": \"y\"}, {\"fillcolor\": \"rgb(31, 119, 180)\", \"line\": {\"width\": 0}, \"opacity\": 1, \"type\": \"rect\", \"x0\": \"2017-6-21\", \"x1\": \"2018-5-16\", \"xref\": \"x\", \"y0\": 16.75, \"y1\": 17.25, \"yref\": \"y\"}, {\"fillcolor\": \"rgb(255, 127, 14)\", \"line\": {\"width\": 0}, \"opacity\": 1, \"type\": \"rect\", \"x0\": \"2017-6-15\", \"x1\": \"2018-5-16\", \"xref\": \"x\", \"y0\": 17.75, \"y1\": 18.25, \"yref\": \"y\"}, {\"fillcolor\": \"rgb(44, 160, 44)\", \"line\": {\"width\": 0}, \"opacity\": 1, \"type\": \"rect\", \"x0\": \"2017-6-15\", \"x1\": \"2018-5-22\", \"xref\": \"x\", \"y0\": 18.75, \"y1\": 19.25, \"yref\": \"y\"}], \"showlegend\": true, \"title\": {\"text\": \"Hashtag Over Time\"}, \"width\": 900, \"xaxis\": {\"rangeselector\": {\"buttons\": [{\"count\": 7, \"label\": \"1w\", \"step\": \"day\", \"stepmode\": \"backward\"}, {\"count\": 1, \"label\": \"1m\", \"step\": \"month\", \"stepmode\": \"backward\"}, {\"count\": 6, \"label\": \"6m\", \"step\": \"month\", \"stepmode\": \"backward\"}, {\"count\": 1, \"label\": \"YTD\", \"step\": \"year\", \"stepmode\": \"todate\"}, {\"count\": 1, \"label\": \"1y\", \"step\": \"year\", \"stepmode\": \"backward\"}, {\"step\": \"all\"}]}, \"showgrid\": true, \"type\": \"date\", \"zeroline\": false}, \"yaxis\": {\"autorange\": false, \"range\": [-1, 21], \"showgrid\": false, \"ticktext\": [\"Florida\", \"Kentucky\", \"Trumpcare\", \"Russia\", \"Kavanaugh\", \"utpol\", \"WV\", \"ACA\", \"healthcare\", \"NV\", \"FarmBill\", \"DACA\", \"climatechange\", \"CHIP\", \"SCOTUS\", \"jobs\", \"mtpol\", \"NM\", \"Ohio\", \"UNK\"], \"tickvals\": [0, 1, 2, 3, 4, 5, 6, 7, 8, 9, 10, 11, 12, 13, 14, 15, 16, 17, 18, 19], \"zeroline\": false}},\n",
       "                        {\"showLink\": false, \"linkText\": \"Export to plot.ly\", \"plotlyServerURL\": \"https://plot.ly\", \"responsive\": true}\n",
       "                    ).then(function(){\n",
       "                            \n",
       "var gd = document.getElementById('d8415c82-98da-4381-8391-0ceab140e9c5');\n",
       "var x = new MutationObserver(function (mutations, observer) {{\n",
       "        var display = window.getComputedStyle(gd).display;\n",
       "        if (!display || display === 'none') {{\n",
       "            console.log([gd, 'removed!']);\n",
       "            Plotly.purge(gd);\n",
       "            observer.disconnect();\n",
       "        }}\n",
       "}});\n",
       "\n",
       "// Listen for the removal of the full notebook cells\n",
       "var notebookContainer = gd.closest('#notebook-container');\n",
       "if (notebookContainer) {{\n",
       "    x.observe(notebookContainer, {childList: true});\n",
       "}}\n",
       "\n",
       "// Listen for the clearing of the current output cell\n",
       "var outputEl = gd.closest('.output');\n",
       "if (outputEl) {{\n",
       "    x.observe(outputEl, {childList: true});\n",
       "}}\n",
       "\n",
       "                        })\n",
       "                };\n",
       "                });\n",
       "            </script>\n",
       "        </div>"
      ]
     },
     "metadata": {},
     "output_type": "display_data"
    }
   ],
   "source": [
    "import plotly.offline as py\n",
    "import plotly.figure_factory as ff\n",
    "\n",
    "py.init_notebook_mode(connected=True)\n",
    "\n",
    "TOP_K = 20\n",
    "df = []\n",
    "max_tag = max([l_tags[i][0] for i in range(TOP_K)])\n",
    "\n",
    "def get_bucket(max_tag, num_buckets, my_val):\n",
    "    tags_per_group = max_tag/num_buckets\n",
    "    for i in range(num_buckets):\n",
    "        if my_val > i*tags_per_group and my_val <= (i+1)*tags_per_group:\n",
    "            return f\"{int(i*tags_per_group)} < {int((i+1)*tags_per_group)}\"\n",
    "    return f\"< {max_tag}\"\n",
    "\n",
    "NUM_BUCKETS = 10\n",
    "\n",
    "for i in range(TOP_K):\n",
    "    tag = l_tags[i][1]\n",
    "    s_date = hashtags_min_date[tag]\n",
    "    e_date = hashtags_max_date[tag]\n",
    "    s_date = f\"{s_date.year}-{s_date.month}-{s_date.day}\"\n",
    "    e_date = f\"{e_date.year}-{e_date.month}-{e_date.day}\"\n",
    "    bucket = get_bucket(max_tag, NUM_BUCKETS, l_tags[i][0])\n",
    "    df.append(dict(Task=tag, Start=s_date, Finish=e_date, Resource=f'{bucket}'))\n",
    "\n",
    "colors = \"Viridis\" # [\"#FCB711\", \"#F37021\", \"#CC004C\", \"#6460AA\", \"#0089D0\", \"#0DB14B\"]\n",
    "\n",
    "fig = ff.create_gantt(df[::-1], bar_width=0.25,  title='Hashtag Over Time', \n",
    "                      showgrid_x=True, show_colorbar=True, index_col='Resource')\n",
    "py.iplot(fig)"
   ]
  },
  {
   "cell_type": "code",
   "execution_count": null,
   "metadata": {},
   "outputs": [],
   "source": []
  },
  {
   "cell_type": "code",
   "execution_count": 126,
   "metadata": {},
   "outputs": [
    {
     "data": {
      "application/vnd.plotly.v1+json": {
       "config": {
        "linkText": "Export to plot.ly",
        "plotlyServerURL": "https://plot.ly",
        "showLink": false
       },
       "data": [
        {
         "name": "taxreform",
         "type": "scatter",
         "uid": "5d9fbc67-237a-4b00-ba2c-fe9f74db6737",
         "x": [
          "2018-03-07",
          "2018-05-16"
         ],
         "y": [
          2,
          5
         ]
        },
        {
         "name": "WhatAreTheyHiding",
         "type": "scatter",
         "uid": "99eae8a5-b088-45c3-9ed7-e03765141d1c",
         "x": [
          "2018-01-18",
          "2018-01-21",
          "2018-02-07",
          "2018-02-15",
          "2018-02-27",
          "2018-03-06",
          "2018-03-07",
          "2018-03-08",
          "2018-03-15",
          "2018-04-25",
          "2018-05-16",
          "2018-05-22"
         ],
         "y": [
          3,
          4,
          7,
          11,
          12,
          13,
          15,
          24,
          25,
          30,
          32,
          34
         ]
        },
        {
         "name": "Kavanaugh",
         "type": "scatter",
         "uid": "a4503411-9671-42e8-9fef-2ad1ea20cac7",
         "x": [
          "2018-01-18",
          "2018-01-21",
          "2018-02-07",
          "2018-02-15",
          "2018-02-26",
          "2018-03-06",
          "2018-03-07",
          "2018-03-08",
          "2018-04-25",
          "2018-05-15",
          "2018-05-16"
         ],
         "y": [
          5,
          7,
          10,
          15,
          18,
          21,
          30,
          37,
          44,
          46,
          47
         ]
        },
        {
         "name": "Russia",
         "type": "scatter",
         "uid": "963afeda-bc30-4921-a0ac-53753421e11b",
         "x": [
          "2017-06-21",
          "2017-12-19",
          "2018-01-18",
          "2018-01-21",
          "2018-02-07",
          "2018-02-15",
          "2018-02-26",
          "2018-02-27",
          "2018-03-06",
          "2018-03-07",
          "2018-03-08",
          "2018-03-15",
          "2018-04-25",
          "2018-05-15",
          "2018-05-16",
          "2018-05-22"
         ],
         "y": [
          1,
          2,
          5,
          6,
          9,
          13,
          15,
          16,
          17,
          23,
          38,
          39,
          41,
          43,
          45,
          46
         ]
        },
        {
         "name": "Ohio",
         "type": "scatter",
         "uid": "88e89d34-78ce-4f8f-b763-58d6640cefc7",
         "x": [
          "2017-06-15",
          "2017-06-21",
          "2017-12-19",
          "2018-01-18",
          "2018-01-21",
          "2018-02-07",
          "2018-02-15",
          "2018-02-26",
          "2018-02-27",
          "2018-03-06",
          "2018-03-07",
          "2018-03-08",
          "2018-03-15",
          "2018-03-26",
          "2018-04-25",
          "2018-05-15",
          "2018-05-16"
         ],
         "y": [
          1,
          6,
          7,
          35,
          43,
          50,
          74,
          80,
          86,
          98,
          116,
          171,
          175,
          176,
          189,
          194,
          198
         ]
        }
       ],
       "layout": {
        "title": {
         "text": "Hashtags over time"
        }
       }
      },
      "text/html": [
       "<div>\n",
       "        \n",
       "        \n",
       "            <div id=\"2d7365ee-bad2-4428-b2ac-e4fd9a44f95d\" class=\"plotly-graph-div\" style=\"height:525px; width:100%;\"></div>\n",
       "            <script type=\"text/javascript\">\n",
       "                require([\"plotly\"], function(Plotly) {\n",
       "                    window.PLOTLYENV=window.PLOTLYENV || {};\n",
       "                    window.PLOTLYENV.BASE_URL='https://plot.ly';\n",
       "                    \n",
       "                if (document.getElementById(\"2d7365ee-bad2-4428-b2ac-e4fd9a44f95d\")) {\n",
       "                    Plotly.newPlot(\n",
       "                        '2d7365ee-bad2-4428-b2ac-e4fd9a44f95d',\n",
       "                        [{\"name\": \"taxreform\", \"type\": \"scatter\", \"uid\": \"5d9fbc67-237a-4b00-ba2c-fe9f74db6737\", \"x\": [\"2018-03-07\", \"2018-05-16\"], \"y\": [2, 5]}, {\"name\": \"WhatAreTheyHiding\", \"type\": \"scatter\", \"uid\": \"99eae8a5-b088-45c3-9ed7-e03765141d1c\", \"x\": [\"2018-01-18\", \"2018-01-21\", \"2018-02-07\", \"2018-02-15\", \"2018-02-27\", \"2018-03-06\", \"2018-03-07\", \"2018-03-08\", \"2018-03-15\", \"2018-04-25\", \"2018-05-16\", \"2018-05-22\"], \"y\": [3, 4, 7, 11, 12, 13, 15, 24, 25, 30, 32, 34]}, {\"name\": \"Kavanaugh\", \"type\": \"scatter\", \"uid\": \"a4503411-9671-42e8-9fef-2ad1ea20cac7\", \"x\": [\"2018-01-18\", \"2018-01-21\", \"2018-02-07\", \"2018-02-15\", \"2018-02-26\", \"2018-03-06\", \"2018-03-07\", \"2018-03-08\", \"2018-04-25\", \"2018-05-15\", \"2018-05-16\"], \"y\": [5, 7, 10, 15, 18, 21, 30, 37, 44, 46, 47]}, {\"name\": \"Russia\", \"type\": \"scatter\", \"uid\": \"963afeda-bc30-4921-a0ac-53753421e11b\", \"x\": [\"2017-06-21\", \"2017-12-19\", \"2018-01-18\", \"2018-01-21\", \"2018-02-07\", \"2018-02-15\", \"2018-02-26\", \"2018-02-27\", \"2018-03-06\", \"2018-03-07\", \"2018-03-08\", \"2018-03-15\", \"2018-04-25\", \"2018-05-15\", \"2018-05-16\", \"2018-05-22\"], \"y\": [1, 2, 5, 6, 9, 13, 15, 16, 17, 23, 38, 39, 41, 43, 45, 46]}, {\"name\": \"Ohio\", \"type\": \"scatter\", \"uid\": \"88e89d34-78ce-4f8f-b763-58d6640cefc7\", \"x\": [\"2017-06-15\", \"2017-06-21\", \"2017-12-19\", \"2018-01-18\", \"2018-01-21\", \"2018-02-07\", \"2018-02-15\", \"2018-02-26\", \"2018-02-27\", \"2018-03-06\", \"2018-03-07\", \"2018-03-08\", \"2018-03-15\", \"2018-03-26\", \"2018-04-25\", \"2018-05-15\", \"2018-05-16\"], \"y\": [1, 6, 7, 35, 43, 50, 74, 80, 86, 98, 116, 171, 175, 176, 189, 194, 198]}],\n",
       "                        {\"title\": {\"text\": \"Hashtags over time\"}},\n",
       "                        {\"showLink\": false, \"linkText\": \"Export to plot.ly\", \"plotlyServerURL\": \"https://plot.ly\", \"responsive\": true}\n",
       "                    ).then(function(){\n",
       "                            \n",
       "var gd = document.getElementById('2d7365ee-bad2-4428-b2ac-e4fd9a44f95d');\n",
       "var x = new MutationObserver(function (mutations, observer) {{\n",
       "        var display = window.getComputedStyle(gd).display;\n",
       "        if (!display || display === 'none') {{\n",
       "            console.log([gd, 'removed!']);\n",
       "            Plotly.purge(gd);\n",
       "            observer.disconnect();\n",
       "        }}\n",
       "}});\n",
       "\n",
       "// Listen for the removal of the full notebook cells\n",
       "var notebookContainer = gd.closest('#notebook-container');\n",
       "if (notebookContainer) {{\n",
       "    x.observe(notebookContainer, {childList: true});\n",
       "}}\n",
       "\n",
       "// Listen for the clearing of the current output cell\n",
       "var outputEl = gd.closest('.output');\n",
       "if (outputEl) {{\n",
       "    x.observe(outputEl, {childList: true});\n",
       "}}\n",
       "\n",
       "                        })\n",
       "                };\n",
       "                });\n",
       "            </script>\n",
       "        </div>"
      ]
     },
     "metadata": {},
     "output_type": "display_data"
    }
   ],
   "source": [
    "import plotly.graph_objs as go\n",
    "import pandas as pd\n",
    "\n",
    "def get_tagdf(tag_name, d_tags,  cumsum=True):\n",
    "    if not d_tags[tag_name]:\n",
    "        return\n",
    "    taggis = d_tags[tag_name]\n",
    "    taggis.sort()\n",
    "\n",
    "    df_date_tag = pd.DataFrame(taggis)\n",
    "    df_date_tag = df_date_tag.groupby(0).sum()\n",
    "    if cumsum:\n",
    "        df_date_tag = df_date_tag.cumsum()\n",
    "    return go.Scatter(x=df_date_tag.index, y=df_date_tag[1], name=tag_name)\n",
    "\n",
    "tag_names = ['obamacare', \n",
    "             'trumpcare', \n",
    "             'taxreform', \n",
    "             'netneutrality', \n",
    "             'WhatAreTheyHiding',\n",
    "            'Kavanaugh',\n",
    "            'Russia','Ohio']\n",
    "\n",
    "dts = [get_tagdf(tn, date_tag) for tn in tag_names]\n",
    "\n",
    "data = [dt for dt in dts if dt]\n",
    "\n",
    "layout = dict(\n",
    "    title = \"Hashtags over time\"\n",
    ")\n",
    "\n",
    "fig = dict(data=data, layout=layout)\n",
    "\n",
    "py.iplot(fig, filename = 'Hashtags over time over all senators')\n"
   ]
  },
  {
   "cell_type": "code",
   "execution_count": 127,
   "metadata": {},
   "outputs": [
    {
     "data": {
      "application/vnd.plotly.v1+json": {
       "config": {
        "linkText": "Export to plot.ly",
        "plotlyServerURL": "https://plot.ly",
        "showLink": false
       },
       "data": [
        {
         "name": "WhatAreTheyHiding",
         "type": "scatter",
         "uid": "38e08730-0b27-47da-b9aa-02ff3aa38d96",
         "x": [
          "2018-03-07",
          "2018-03-08"
         ],
         "y": [
          1,
          4
         ]
        },
        {
         "name": "Kavanaugh",
         "type": "scatter",
         "uid": "6b87f6c4-0726-46e6-8d81-5bfb15eb4be3",
         "x": [
          "2018-02-15",
          "2018-03-07",
          "2018-05-15"
         ],
         "y": [
          2,
          5,
          7
         ]
        },
        {
         "name": "Russia",
         "type": "scatter",
         "uid": "772be388-b342-4fee-b427-8420ba21d056",
         "x": [
          "2017-12-19",
          "2018-02-15",
          "2018-03-07",
          "2018-03-08",
          "2018-05-15"
         ],
         "y": [
          1,
          3,
          4,
          5,
          7
         ]
        },
        {
         "name": "Ohio",
         "type": "scatter",
         "uid": "76dfd62f-358a-468e-a840-449aa2655f64",
         "x": [
          "2017-12-19",
          "2018-02-15",
          "2018-03-06",
          "2018-03-07",
          "2018-03-08",
          "2018-05-15"
         ],
         "y": [
          1,
          10,
          11,
          17,
          25,
          30
         ]
        },
        {
         "name": "jobs",
         "type": "scatter",
         "uid": "418e40e2-eae6-4186-9043-f2be1825f51d",
         "x": [
          "2018-02-15",
          "2018-03-07",
          "2018-05-15"
         ],
         "y": [
          1,
          4,
          6
         ]
        },
        {
         "name": "healthcare",
         "type": "scatter",
         "uid": "611c1054-e863-424a-be9d-8571ed482cd3",
         "x": [
          "2018-02-15",
          "2018-03-07",
          "2018-03-08",
          "2018-05-15"
         ],
         "y": [
          3,
          8,
          10,
          11
         ]
        }
       ],
       "layout": {
        "title": {
         "text": "Hashtags over time"
        }
       }
      },
      "text/html": [
       "<div>\n",
       "        \n",
       "        \n",
       "            <div id=\"78e9d079-cced-42df-bfd3-1e483cf92465\" class=\"plotly-graph-div\" style=\"height:525px; width:100%;\"></div>\n",
       "            <script type=\"text/javascript\">\n",
       "                require([\"plotly\"], function(Plotly) {\n",
       "                    window.PLOTLYENV=window.PLOTLYENV || {};\n",
       "                    window.PLOTLYENV.BASE_URL='https://plot.ly';\n",
       "                    \n",
       "                if (document.getElementById(\"78e9d079-cced-42df-bfd3-1e483cf92465\")) {\n",
       "                    Plotly.newPlot(\n",
       "                        '78e9d079-cced-42df-bfd3-1e483cf92465',\n",
       "                        [{\"name\": \"WhatAreTheyHiding\", \"type\": \"scatter\", \"uid\": \"38e08730-0b27-47da-b9aa-02ff3aa38d96\", \"x\": [\"2018-03-07\", \"2018-03-08\"], \"y\": [1, 4]}, {\"name\": \"Kavanaugh\", \"type\": \"scatter\", \"uid\": \"6b87f6c4-0726-46e6-8d81-5bfb15eb4be3\", \"x\": [\"2018-02-15\", \"2018-03-07\", \"2018-05-15\"], \"y\": [2, 5, 7]}, {\"name\": \"Russia\", \"type\": \"scatter\", \"uid\": \"772be388-b342-4fee-b427-8420ba21d056\", \"x\": [\"2017-12-19\", \"2018-02-15\", \"2018-03-07\", \"2018-03-08\", \"2018-05-15\"], \"y\": [1, 3, 4, 5, 7]}, {\"name\": \"Ohio\", \"type\": \"scatter\", \"uid\": \"76dfd62f-358a-468e-a840-449aa2655f64\", \"x\": [\"2017-12-19\", \"2018-02-15\", \"2018-03-06\", \"2018-03-07\", \"2018-03-08\", \"2018-05-15\"], \"y\": [1, 10, 11, 17, 25, 30]}, {\"name\": \"jobs\", \"type\": \"scatter\", \"uid\": \"418e40e2-eae6-4186-9043-f2be1825f51d\", \"x\": [\"2018-02-15\", \"2018-03-07\", \"2018-05-15\"], \"y\": [1, 4, 6]}, {\"name\": \"healthcare\", \"type\": \"scatter\", \"uid\": \"611c1054-e863-424a-be9d-8571ed482cd3\", \"x\": [\"2018-02-15\", \"2018-03-07\", \"2018-03-08\", \"2018-05-15\"], \"y\": [3, 8, 10, 11]}],\n",
       "                        {\"title\": {\"text\": \"Hashtags over time\"}},\n",
       "                        {\"showLink\": false, \"linkText\": \"Export to plot.ly\", \"plotlyServerURL\": \"https://plot.ly\", \"responsive\": true}\n",
       "                    ).then(function(){\n",
       "                            \n",
       "var gd = document.getElementById('78e9d079-cced-42df-bfd3-1e483cf92465');\n",
       "var x = new MutationObserver(function (mutations, observer) {{\n",
       "        var display = window.getComputedStyle(gd).display;\n",
       "        if (!display || display === 'none') {{\n",
       "            console.log([gd, 'removed!']);\n",
       "            Plotly.purge(gd);\n",
       "            observer.disconnect();\n",
       "        }}\n",
       "}});\n",
       "\n",
       "// Listen for the removal of the full notebook cells\n",
       "var notebookContainer = gd.closest('#notebook-container');\n",
       "if (notebookContainer) {{\n",
       "    x.observe(notebookContainer, {childList: true});\n",
       "}}\n",
       "\n",
       "// Listen for the clearing of the current output cell\n",
       "var outputEl = gd.closest('.output');\n",
       "if (outputEl) {{\n",
       "    x.observe(outputEl, {childList: true});\n",
       "}}\n",
       "\n",
       "                        })\n",
       "                };\n",
       "                });\n",
       "            </script>\n",
       "        </div>"
      ]
     },
     "metadata": {},
     "output_type": "display_data"
    }
   ],
   "source": [
    "tag_names = ['obamacare', \n",
    "             'trumpcare', \n",
    "             'taxreform', \n",
    "             'netneutrality', \n",
    "             'WhatAreTheyHiding',\n",
    "            'Kavanaugh',\n",
    "            'Russia','Ohio', 'jobs', 'healthcare']\n",
    "\n",
    "dts = [get_tagdf(tn, date_tag_republican) for tn in tag_names]\n",
    "\n",
    "data = [dt for dt in dts if dt]\n",
    "\n",
    "layout = dict(\n",
    "    title = \"Hashtags over time\"\n",
    ")\n",
    "\n",
    "fig = dict(data=data, layout=layout)\n",
    "\n",
    "py.iplot(fig, filename = 'Hashtags over time for republicans')\n"
   ]
  },
  {
   "cell_type": "code",
   "execution_count": 120,
   "metadata": {},
   "outputs": [
    {
     "data": {
      "application/vnd.plotly.v1+json": {
       "config": {
        "linkText": "Export to plot.ly",
        "plotlyServerURL": "https://plot.ly",
        "showLink": false
       },
       "data": [
        {
         "name": "WhatAreTheyHiding",
         "type": "scatter",
         "uid": "9fb339cc-a1fb-4aee-8c6e-0f377516c760",
         "x": [
          "2018-01-18",
          "2018-02-07",
          "2018-02-15",
          "2018-03-06",
          "2018-03-08",
          "2018-05-16"
         ],
         "y": [
          1,
          2,
          4,
          5,
          7,
          9
         ]
        },
        {
         "name": "Kavanaugh",
         "type": "scatter",
         "uid": "e1e9cd9f-c885-44d6-8df6-4be9e160e9fe",
         "x": [
          "2018-01-18",
          "2018-01-21",
          "2018-02-15",
          "2018-03-07",
          "2018-03-08",
          "2018-04-25",
          "2018-05-16"
         ],
         "y": [
          3,
          5,
          6,
          7,
          9,
          14,
          15
         ]
        },
        {
         "name": "Russia",
         "type": "scatter",
         "uid": "493453e1-4875-4405-8778-4d0fd790f5f1",
         "x": [
          "2018-01-18",
          "2018-02-07",
          "2018-02-15",
          "2018-02-26",
          "2018-03-07",
          "2018-03-08",
          "2018-04-25"
         ],
         "y": [
          2,
          3,
          4,
          5,
          7,
          13,
          15
         ]
        },
        {
         "name": "Ohio",
         "type": "scatter",
         "uid": "4cb62302-bd7a-4f64-9ad7-547143888fa0",
         "x": [
          "2018-01-18",
          "2018-01-21",
          "2018-02-07",
          "2018-02-15",
          "2018-02-26",
          "2018-02-27",
          "2018-03-06",
          "2018-03-07",
          "2018-03-08",
          "2018-03-15",
          "2018-03-26",
          "2018-04-25",
          "2018-05-16"
         ],
         "y": [
          11,
          16,
          19,
          25,
          28,
          30,
          36,
          40,
          60,
          62,
          63,
          69,
          72
         ]
        }
       ],
       "layout": {
        "title": {
         "text": "Hashtags over time"
        }
       }
      },
      "text/html": [
       "<div>\n",
       "        \n",
       "        \n",
       "            <div id=\"a10e97ba-4201-4177-8b4d-c3e2a17815d7\" class=\"plotly-graph-div\" style=\"height:525px; width:100%;\"></div>\n",
       "            <script type=\"text/javascript\">\n",
       "                require([\"plotly\"], function(Plotly) {\n",
       "                    window.PLOTLYENV=window.PLOTLYENV || {};\n",
       "                    window.PLOTLYENV.BASE_URL='https://plot.ly';\n",
       "                    \n",
       "                if (document.getElementById(\"a10e97ba-4201-4177-8b4d-c3e2a17815d7\")) {\n",
       "                    Plotly.newPlot(\n",
       "                        'a10e97ba-4201-4177-8b4d-c3e2a17815d7',\n",
       "                        [{\"name\": \"WhatAreTheyHiding\", \"type\": \"scatter\", \"uid\": \"9fb339cc-a1fb-4aee-8c6e-0f377516c760\", \"x\": [\"2018-01-18\", \"2018-02-07\", \"2018-02-15\", \"2018-03-06\", \"2018-03-08\", \"2018-05-16\"], \"y\": [1, 2, 4, 5, 7, 9]}, {\"name\": \"Kavanaugh\", \"type\": \"scatter\", \"uid\": \"e1e9cd9f-c885-44d6-8df6-4be9e160e9fe\", \"x\": [\"2018-01-18\", \"2018-01-21\", \"2018-02-15\", \"2018-03-07\", \"2018-03-08\", \"2018-04-25\", \"2018-05-16\"], \"y\": [3, 5, 6, 7, 9, 14, 15]}, {\"name\": \"Russia\", \"type\": \"scatter\", \"uid\": \"493453e1-4875-4405-8778-4d0fd790f5f1\", \"x\": [\"2018-01-18\", \"2018-02-07\", \"2018-02-15\", \"2018-02-26\", \"2018-03-07\", \"2018-03-08\", \"2018-04-25\"], \"y\": [2, 3, 4, 5, 7, 13, 15]}, {\"name\": \"Ohio\", \"type\": \"scatter\", \"uid\": \"4cb62302-bd7a-4f64-9ad7-547143888fa0\", \"x\": [\"2018-01-18\", \"2018-01-21\", \"2018-02-07\", \"2018-02-15\", \"2018-02-26\", \"2018-02-27\", \"2018-03-06\", \"2018-03-07\", \"2018-03-08\", \"2018-03-15\", \"2018-03-26\", \"2018-04-25\", \"2018-05-16\"], \"y\": [11, 16, 19, 25, 28, 30, 36, 40, 60, 62, 63, 69, 72]}],\n",
       "                        {\"title\": {\"text\": \"Hashtags over time\"}},\n",
       "                        {\"showLink\": false, \"linkText\": \"Export to plot.ly\", \"plotlyServerURL\": \"https://plot.ly\", \"responsive\": true}\n",
       "                    ).then(function(){\n",
       "                            \n",
       "var gd = document.getElementById('a10e97ba-4201-4177-8b4d-c3e2a17815d7');\n",
       "var x = new MutationObserver(function (mutations, observer) {{\n",
       "        var display = window.getComputedStyle(gd).display;\n",
       "        if (!display || display === 'none') {{\n",
       "            console.log([gd, 'removed!']);\n",
       "            Plotly.purge(gd);\n",
       "            observer.disconnect();\n",
       "        }}\n",
       "}});\n",
       "\n",
       "// Listen for the removal of the full notebook cells\n",
       "var notebookContainer = gd.closest('#notebook-container');\n",
       "if (notebookContainer) {{\n",
       "    x.observe(notebookContainer, {childList: true});\n",
       "}}\n",
       "\n",
       "// Listen for the clearing of the current output cell\n",
       "var outputEl = gd.closest('.output');\n",
       "if (outputEl) {{\n",
       "    x.observe(outputEl, {childList: true});\n",
       "}}\n",
       "\n",
       "                        })\n",
       "                };\n",
       "                });\n",
       "            </script>\n",
       "        </div>"
      ]
     },
     "metadata": {},
     "output_type": "display_data"
    }
   ],
   "source": [
    "tag_names = ['obamacare', \n",
    "             'trumpcare', \n",
    "             'taxreform', \n",
    "             'netneutrality', \n",
    "             'WhatAreTheyHiding',\n",
    "            'Kavanaugh',\n",
    "            'Russia','Ohio']\n",
    "\n",
    "dts = [get_tagdf(tn, date_tag_democrats) for tn in tag_names]\n",
    "\n",
    "data = [dt for dt in dts if dt]\n",
    "\n",
    "layout = dict(\n",
    "    title = \"Hashtags over time\"\n",
    ")\n",
    "\n",
    "fig = dict(data=data, layout=layout)\n",
    "\n",
    "py.iplot(fig, filename = 'Hashtags over time for democrats')\n"
   ]
  },
  {
   "cell_type": "code",
   "execution_count": 110,
   "metadata": {},
   "outputs": [
    {
     "data": {
      "application/vnd.plotly.v1+json": {
       "config": {
        "linkText": "Export to plot.ly",
        "plotlyServerURL": "https://plot.ly",
        "showLink": false
       },
       "data": [
        {
         "name": "King",
         "type": "bar",
         "uid": "0a30cc10-694a-4a46-bd7b-59482d4bde69",
         "x": [
          "ACA",
          "budget",
          "WV"
         ],
         "y": [
          2,
          2,
          2
         ]
        },
        {
         "name": "Stabenow",
         "type": "bar",
         "uid": "0afa7e8e-a818-44f0-b73e-7362b24c1003",
         "x": [
          "mtpol",
          "RideMI",
          "climatechange",
          "Ohio",
          "CHIP",
          "healthcare",
          "Veterans",
          "NM",
          "NV"
         ],
         "y": [
          2,
          2,
          2,
          2,
          3,
          3,
          2,
          3,
          2
         ]
        },
        {
         "name": "Feinstein",
         "type": "bar",
         "uid": "aaef8383-5060-43ef-bf9b-e5b935029035",
         "x": [
          "mtpol",
          "FirstStepAct",
          "Ohio",
          "Trumpcare",
          "climatechange",
          "opioidepidemic",
          "utpol",
          "SCOTUS",
          "jobs",
          "NM",
          "ProtectOurCare",
          "JudgeGorsuch"
         ],
         "y": [
          6,
          3,
          4,
          3,
          3,
          2,
          2,
          3,
          2,
          2,
          2,
          2
         ]
        },
        {
         "name": "Wicker",
         "type": "bar",
         "uid": "48dc5915-5c88-4e86-9d97-3de3b83923d5",
         "x": [
          "1October",
          "SCOTUS",
          "DACA",
          "mtpol"
         ],
         "y": [
          2,
          3,
          2,
          2
         ]
        }
       ],
       "layout": {}
      },
      "text/html": [
       "<div>\n",
       "        \n",
       "        \n",
       "            <div id=\"37ac6e20-484e-42b9-b76b-361abe35f084\" class=\"plotly-graph-div\" style=\"height:525px; width:100%;\"></div>\n",
       "            <script type=\"text/javascript\">\n",
       "                require([\"plotly\"], function(Plotly) {\n",
       "                    window.PLOTLYENV=window.PLOTLYENV || {};\n",
       "                    window.PLOTLYENV.BASE_URL='https://plot.ly';\n",
       "                    \n",
       "                if (document.getElementById(\"37ac6e20-484e-42b9-b76b-361abe35f084\")) {\n",
       "                    Plotly.newPlot(\n",
       "                        '37ac6e20-484e-42b9-b76b-361abe35f084',\n",
       "                        [{\"name\": \"King\", \"type\": \"bar\", \"uid\": \"0a30cc10-694a-4a46-bd7b-59482d4bde69\", \"x\": [\"ACA\", \"budget\", \"WV\"], \"y\": [2, 2, 2]}, {\"name\": \"Stabenow\", \"type\": \"bar\", \"uid\": \"0afa7e8e-a818-44f0-b73e-7362b24c1003\", \"x\": [\"mtpol\", \"RideMI\", \"climatechange\", \"Ohio\", \"CHIP\", \"healthcare\", \"Veterans\", \"NM\", \"NV\"], \"y\": [2, 2, 2, 2, 3, 3, 2, 3, 2]}, {\"name\": \"Feinstein\", \"type\": \"bar\", \"uid\": \"aaef8383-5060-43ef-bf9b-e5b935029035\", \"x\": [\"mtpol\", \"FirstStepAct\", \"Ohio\", \"Trumpcare\", \"climatechange\", \"opioidepidemic\", \"utpol\", \"SCOTUS\", \"jobs\", \"NM\", \"ProtectOurCare\", \"JudgeGorsuch\"], \"y\": [6, 3, 4, 3, 3, 2, 2, 3, 2, 2, 2, 2]}, {\"name\": \"Wicker\", \"type\": \"bar\", \"uid\": \"48dc5915-5c88-4e86-9d97-3de3b83923d5\", \"x\": [\"1October\", \"SCOTUS\", \"DACA\", \"mtpol\"], \"y\": [2, 3, 2, 2]}],\n",
       "                        {},\n",
       "                        {\"showLink\": false, \"linkText\": \"Export to plot.ly\", \"plotlyServerURL\": \"https://plot.ly\", \"responsive\": true}\n",
       "                    ).then(function(){\n",
       "                            \n",
       "var gd = document.getElementById('37ac6e20-484e-42b9-b76b-361abe35f084');\n",
       "var x = new MutationObserver(function (mutations, observer) {{\n",
       "        var display = window.getComputedStyle(gd).display;\n",
       "        if (!display || display === 'none') {{\n",
       "            console.log([gd, 'removed!']);\n",
       "            Plotly.purge(gd);\n",
       "            observer.disconnect();\n",
       "        }}\n",
       "}});\n",
       "\n",
       "// Listen for the removal of the full notebook cells\n",
       "var notebookContainer = gd.closest('#notebook-container');\n",
       "if (notebookContainer) {{\n",
       "    x.observe(notebookContainer, {childList: true});\n",
       "}}\n",
       "\n",
       "// Listen for the clearing of the current output cell\n",
       "var outputEl = gd.closest('.output');\n",
       "if (outputEl) {{\n",
       "    x.observe(outputEl, {childList: true});\n",
       "}}\n",
       "\n",
       "                        })\n",
       "                };\n",
       "                });\n",
       "            </script>\n",
       "        </div>"
      ]
     },
     "metadata": {},
     "output_type": "display_data"
    },
    {
     "data": {
      "application/vnd.plotly.v1+json": {
       "config": {
        "linkText": "Export to plot.ly",
        "plotlyServerURL": "https://plot.ly",
        "showLink": false
       },
       "data": [
        {
         "name": "klobuchar",
         "type": "bar",
         "uid": "ca1c4ec7-16d2-4f6a-92bc-693a8d04da9d",
         "x": [
          "mtpol",
          "CHIP",
          "SCOTUS",
          "Ohio"
         ],
         "y": [
          3,
          2,
          2,
          5
         ]
        },
        {
         "name": "Menendez",
         "type": "bar",
         "uid": "399381be-f7b0-4dc6-95a1-7d485aab6476",
         "x": [
          "mtpol",
          "Ohio",
          "CHIP",
          "GetCovered",
          "SESTA",
          "NAFTA",
          "Kentucky",
          "Russia",
          "FarmBill",
          "NotInvisible",
          "NM",
          "jobs",
          "smallbiz"
         ],
         "y": [
          4,
          9,
          2,
          2,
          2,
          2,
          3,
          2,
          3,
          3,
          2,
          4,
          2
         ]
        },
        {
         "name": "Cantwell",
         "type": "bar",
         "uid": "933f418b-81ec-413d-8c77-8b42210adede",
         "x": [
          "NetNeutrality",
          "mtpol",
          "SCOTUS",
          "NM",
          "climatechange",
          "WV",
          "WhatAreTheyHiding",
          "Ohio",
          "STEM",
          "jobs"
         ],
         "y": [
          4,
          6,
          5,
          2,
          2,
          4,
          2,
          3,
          2,
          3
         ]
        },
        {
         "name": "Barrasso",
         "type": "bar",
         "uid": "cb1e5a85-d958-49b3-966a-b50126380ef6",
         "x": [
          "SCOTUS",
          "Russia",
          "GOPTaxPlan",
          "DACA",
          "Kavanaugh",
          "Ohio",
          "CHIP",
          "climatechange",
          "NM",
          "Trumpcare",
          "ACA",
          "healthcare",
          "WhatsAtStake",
          "LasVegas",
          "Obamacare"
         ],
         "y": [
          4,
          3,
          2,
          2,
          2,
          2,
          2,
          3,
          2,
          2,
          4,
          2,
          2,
          2,
          2
         ]
        },
        {
         "name": "Warren",
         "type": "bar",
         "uid": "f507d077-5fc2-4272-a0d6-fb3f504d686a",
         "x": [
          "FarmBill",
          "mtpol",
          "Ohio",
          "NM",
          "SCOTUS",
          "NV",
          "jobs",
          "SecDef",
          "climatechange",
          "utpol"
         ],
         "y": [
          5,
          4,
          3,
          5,
          7,
          2,
          4,
          2,
          2,
          4
         ]
        }
       ],
       "layout": {}
      },
      "text/html": [
       "<div>\n",
       "        \n",
       "        \n",
       "            <div id=\"d504d3ef-b972-45bc-bfc8-643c8189b83c\" class=\"plotly-graph-div\" style=\"height:525px; width:100%;\"></div>\n",
       "            <script type=\"text/javascript\">\n",
       "                require([\"plotly\"], function(Plotly) {\n",
       "                    window.PLOTLYENV=window.PLOTLYENV || {};\n",
       "                    window.PLOTLYENV.BASE_URL='https://plot.ly';\n",
       "                    \n",
       "                if (document.getElementById(\"d504d3ef-b972-45bc-bfc8-643c8189b83c\")) {\n",
       "                    Plotly.newPlot(\n",
       "                        'd504d3ef-b972-45bc-bfc8-643c8189b83c',\n",
       "                        [{\"name\": \"klobuchar\", \"type\": \"bar\", \"uid\": \"ca1c4ec7-16d2-4f6a-92bc-693a8d04da9d\", \"x\": [\"mtpol\", \"CHIP\", \"SCOTUS\", \"Ohio\"], \"y\": [3, 2, 2, 5]}, {\"name\": \"Menendez\", \"type\": \"bar\", \"uid\": \"399381be-f7b0-4dc6-95a1-7d485aab6476\", \"x\": [\"mtpol\", \"Ohio\", \"CHIP\", \"GetCovered\", \"SESTA\", \"NAFTA\", \"Kentucky\", \"Russia\", \"FarmBill\", \"NotInvisible\", \"NM\", \"jobs\", \"smallbiz\"], \"y\": [4, 9, 2, 2, 2, 2, 3, 2, 3, 3, 2, 4, 2]}, {\"name\": \"Cantwell\", \"type\": \"bar\", \"uid\": \"933f418b-81ec-413d-8c77-8b42210adede\", \"x\": [\"NetNeutrality\", \"mtpol\", \"SCOTUS\", \"NM\", \"climatechange\", \"WV\", \"WhatAreTheyHiding\", \"Ohio\", \"STEM\", \"jobs\"], \"y\": [4, 6, 5, 2, 2, 4, 2, 3, 2, 3]}, {\"name\": \"Barrasso\", \"type\": \"bar\", \"uid\": \"cb1e5a85-d958-49b3-966a-b50126380ef6\", \"x\": [\"SCOTUS\", \"Russia\", \"GOPTaxPlan\", \"DACA\", \"Kavanaugh\", \"Ohio\", \"CHIP\", \"climatechange\", \"NM\", \"Trumpcare\", \"ACA\", \"healthcare\", \"WhatsAtStake\", \"LasVegas\", \"Obamacare\"], \"y\": [4, 3, 2, 2, 2, 2, 2, 3, 2, 2, 4, 2, 2, 2, 2]}, {\"name\": \"Warren\", \"type\": \"bar\", \"uid\": \"f507d077-5fc2-4272-a0d6-fb3f504d686a\", \"x\": [\"FarmBill\", \"mtpol\", \"Ohio\", \"NM\", \"SCOTUS\", \"NV\", \"jobs\", \"SecDef\", \"climatechange\", \"utpol\"], \"y\": [5, 4, 3, 5, 7, 2, 4, 2, 2, 4]}],\n",
       "                        {},\n",
       "                        {\"showLink\": false, \"linkText\": \"Export to plot.ly\", \"plotlyServerURL\": \"https://plot.ly\", \"responsive\": true}\n",
       "                    ).then(function(){\n",
       "                            \n",
       "var gd = document.getElementById('d504d3ef-b972-45bc-bfc8-643c8189b83c');\n",
       "var x = new MutationObserver(function (mutations, observer) {{\n",
       "        var display = window.getComputedStyle(gd).display;\n",
       "        if (!display || display === 'none') {{\n",
       "            console.log([gd, 'removed!']);\n",
       "            Plotly.purge(gd);\n",
       "            observer.disconnect();\n",
       "        }}\n",
       "}});\n",
       "\n",
       "// Listen for the removal of the full notebook cells\n",
       "var notebookContainer = gd.closest('#notebook-container');\n",
       "if (notebookContainer) {{\n",
       "    x.observe(notebookContainer, {childList: true});\n",
       "}}\n",
       "\n",
       "// Listen for the clearing of the current output cell\n",
       "var outputEl = gd.closest('.output');\n",
       "if (outputEl) {{\n",
       "    x.observe(outputEl, {childList: true});\n",
       "}}\n",
       "\n",
       "                        })\n",
       "                };\n",
       "                });\n",
       "            </script>\n",
       "        </div>"
      ]
     },
     "metadata": {},
     "output_type": "display_data"
    },
    {
     "data": {
      "application/vnd.plotly.v1+json": {
       "config": {
        "linkText": "Export to plot.ly",
        "plotlyServerURL": "https://plot.ly",
        "showLink": false
       },
       "data": [
        {
         "name": "Fischer",
         "type": "bar",
         "uid": "ec9878ea-802d-4174-9cc7-6adc122927bb",
         "x": [
          "mtpol",
          "CHIP",
          "Ohio",
          "SCOTUS",
          "DACA",
          "Mnuchin"
         ],
         "y": [
          4,
          2,
          3,
          2,
          2,
          2
         ]
        },
        {
         "name": "Gillibrand",
         "type": "bar",
         "uid": "9d5dfc91-6116-491c-afc0-060e423b55f4",
         "x": [],
         "y": []
        },
        {
         "name": "Tester",
         "type": "bar",
         "uid": "c7ae545b-c348-4f95-8ee1-08586eac73bb",
         "x": [
          "WV"
         ],
         "y": [
          2
         ]
        },
        {
         "name": "Manchin",
         "type": "bar",
         "uid": "d2d2d7ef-53c4-4fe6-a349-7448be0a9261",
         "x": [
          "mtpol",
          "SCOTUS"
         ],
         "y": [
          3,
          2
         ]
        },
        {
         "name": "Murphy",
         "type": "bar",
         "uid": "63e66c58-d0f6-4ba2-b67b-c6d780096a53",
         "x": [
          "Trumpcare",
          "mtpol",
          "SCOTUS",
          "Obamacare",
          "ACA",
          "jobs",
          "CHIP",
          "UK",
          "DACA",
          "Fargo",
          "NM",
          "HurricaneMaria",
          "NV",
          "WV",
          "climatechange",
          "Ohio",
          "Russia",
          "1October",
          "FarmBill",
          "Kentucky",
          "Florida",
          "opioid",
          "IIOA",
          "Kavanaugh",
          "healthcare"
         ],
         "y": [
          4,
          4,
          11,
          2,
          6,
          6,
          5,
          3,
          3,
          2,
          6,
          2,
          5,
          2,
          7,
          8,
          3,
          3,
          2,
          4,
          2,
          2,
          2,
          5,
          2
         ]
        }
       ],
       "layout": {}
      },
      "text/html": [
       "<div>\n",
       "        \n",
       "        \n",
       "            <div id=\"9463c2e2-f525-49f6-9cc3-9c6840ad34d4\" class=\"plotly-graph-div\" style=\"height:525px; width:100%;\"></div>\n",
       "            <script type=\"text/javascript\">\n",
       "                require([\"plotly\"], function(Plotly) {\n",
       "                    window.PLOTLYENV=window.PLOTLYENV || {};\n",
       "                    window.PLOTLYENV.BASE_URL='https://plot.ly';\n",
       "                    \n",
       "                if (document.getElementById(\"9463c2e2-f525-49f6-9cc3-9c6840ad34d4\")) {\n",
       "                    Plotly.newPlot(\n",
       "                        '9463c2e2-f525-49f6-9cc3-9c6840ad34d4',\n",
       "                        [{\"name\": \"Fischer\", \"type\": \"bar\", \"uid\": \"ec9878ea-802d-4174-9cc7-6adc122927bb\", \"x\": [\"mtpol\", \"CHIP\", \"Ohio\", \"SCOTUS\", \"DACA\", \"Mnuchin\"], \"y\": [4, 2, 3, 2, 2, 2]}, {\"name\": \"Gillibrand\", \"type\": \"bar\", \"uid\": \"9d5dfc91-6116-491c-afc0-060e423b55f4\", \"x\": [], \"y\": []}, {\"name\": \"Tester\", \"type\": \"bar\", \"uid\": \"c7ae545b-c348-4f95-8ee1-08586eac73bb\", \"x\": [\"WV\"], \"y\": [2]}, {\"name\": \"Manchin\", \"type\": \"bar\", \"uid\": \"d2d2d7ef-53c4-4fe6-a349-7448be0a9261\", \"x\": [\"mtpol\", \"SCOTUS\"], \"y\": [3, 2]}, {\"name\": \"Murphy\", \"type\": \"bar\", \"uid\": \"63e66c58-d0f6-4ba2-b67b-c6d780096a53\", \"x\": [\"Trumpcare\", \"mtpol\", \"SCOTUS\", \"Obamacare\", \"ACA\", \"jobs\", \"CHIP\", \"UK\", \"DACA\", \"Fargo\", \"NM\", \"HurricaneMaria\", \"NV\", \"WV\", \"climatechange\", \"Ohio\", \"Russia\", \"1October\", \"FarmBill\", \"Kentucky\", \"Florida\", \"opioid\", \"IIOA\", \"Kavanaugh\", \"healthcare\"], \"y\": [4, 4, 11, 2, 6, 6, 5, 3, 3, 2, 6, 2, 5, 2, 7, 8, 3, 3, 2, 4, 2, 2, 2, 5, 2]}],\n",
       "                        {},\n",
       "                        {\"showLink\": false, \"linkText\": \"Export to plot.ly\", \"plotlyServerURL\": \"https://plot.ly\", \"responsive\": true}\n",
       "                    ).then(function(){\n",
       "                            \n",
       "var gd = document.getElementById('9463c2e2-f525-49f6-9cc3-9c6840ad34d4');\n",
       "var x = new MutationObserver(function (mutations, observer) {{\n",
       "        var display = window.getComputedStyle(gd).display;\n",
       "        if (!display || display === 'none') {{\n",
       "            console.log([gd, 'removed!']);\n",
       "            Plotly.purge(gd);\n",
       "            observer.disconnect();\n",
       "        }}\n",
       "}});\n",
       "\n",
       "// Listen for the removal of the full notebook cells\n",
       "var notebookContainer = gd.closest('#notebook-container');\n",
       "if (notebookContainer) {{\n",
       "    x.observe(notebookContainer, {childList: true});\n",
       "}}\n",
       "\n",
       "// Listen for the clearing of the current output cell\n",
       "var outputEl = gd.closest('.output');\n",
       "if (outputEl) {{\n",
       "    x.observe(outputEl, {childList: true});\n",
       "}}\n",
       "\n",
       "                        })\n",
       "                };\n",
       "                });\n",
       "            </script>\n",
       "        </div>"
      ]
     },
     "metadata": {},
     "output_type": "display_data"
    },
    {
     "data": {
      "application/vnd.plotly.v1+json": {
       "config": {
        "linkText": "Export to plot.ly",
        "plotlyServerURL": "https://plot.ly",
        "showLink": false
       },
       "data": [
        {
         "name": "Baldwin",
         "type": "bar",
         "uid": "ff4575d1-7def-47bc-ad69-24042300b302",
         "x": [
          "Trumpcare",
          "healthcare",
          "Kentucky",
          "CHIP",
          "GetCovered",
          "mtpol",
          "Ohio",
          "DACA",
          "climatechange",
          "ACA",
          "Dreamers"
         ],
         "y": [
          2,
          2,
          2,
          3,
          3,
          4,
          5,
          2,
          3,
          2,
          2
         ]
        },
        {
         "name": "hirono",
         "type": "bar",
         "uid": "2e92b2c4-28f2-4486-967f-1734d2954322",
         "x": [
          "mtpol",
          "FarmBill",
          "NM",
          "climatechange",
          "Ohio",
          "WV",
          "CHIP",
          "HurricaneMichael",
          "jobs",
          "Kavanaugh"
         ],
         "y": [
          3,
          2,
          3,
          2,
          2,
          2,
          3,
          2,
          3,
          2
         ]
        },
        {
         "name": "Carper",
         "type": "bar",
         "uid": "82a5692b-2137-47c3-812e-2fcfda356716",
         "x": [
          "Ohio",
          "Jobs",
          "infrastructure",
          "STEM",
          "ACA",
          "DACA",
          "FarmBill",
          "mtpol",
          "NotInvisible",
          "NV",
          "CHIP"
         ],
         "y": [
          4,
          2,
          2,
          2,
          2,
          2,
          2,
          2,
          2,
          2,
          2
         ]
        },
        {
         "name": "Sanders",
         "type": "bar",
         "uid": "2337f871-27bc-469e-b8b3-4008a6c80d44",
         "x": [
          "NM",
          "CHIP",
          "climatechange",
          "healthcare",
          "mtpol",
          "smallbiz",
          "Ohio",
          "SCOTUS",
          "DACA",
          "StopCISA",
          "WV",
          "1October",
          "jobs"
         ],
         "y": [
          3,
          3,
          5,
          2,
          3,
          2,
          7,
          2,
          2,
          2,
          3,
          2,
          2
         ]
        },
        {
         "name": "kaine",
         "type": "bar",
         "uid": "124e0e2f-0626-440e-965f-b01d5b8200f6",
         "x": [],
         "y": []
        }
       ],
       "layout": {}
      },
      "text/html": [
       "<div>\n",
       "        \n",
       "        \n",
       "            <div id=\"2ba1ef8a-6266-420a-beab-251d78a1a0b4\" class=\"plotly-graph-div\" style=\"height:525px; width:100%;\"></div>\n",
       "            <script type=\"text/javascript\">\n",
       "                require([\"plotly\"], function(Plotly) {\n",
       "                    window.PLOTLYENV=window.PLOTLYENV || {};\n",
       "                    window.PLOTLYENV.BASE_URL='https://plot.ly';\n",
       "                    \n",
       "                if (document.getElementById(\"2ba1ef8a-6266-420a-beab-251d78a1a0b4\")) {\n",
       "                    Plotly.newPlot(\n",
       "                        '2ba1ef8a-6266-420a-beab-251d78a1a0b4',\n",
       "                        [{\"name\": \"Baldwin\", \"type\": \"bar\", \"uid\": \"ff4575d1-7def-47bc-ad69-24042300b302\", \"x\": [\"Trumpcare\", \"healthcare\", \"Kentucky\", \"CHIP\", \"GetCovered\", \"mtpol\", \"Ohio\", \"DACA\", \"climatechange\", \"ACA\", \"Dreamers\"], \"y\": [2, 2, 2, 3, 3, 4, 5, 2, 3, 2, 2]}, {\"name\": \"hirono\", \"type\": \"bar\", \"uid\": \"2e92b2c4-28f2-4486-967f-1734d2954322\", \"x\": [\"mtpol\", \"FarmBill\", \"NM\", \"climatechange\", \"Ohio\", \"WV\", \"CHIP\", \"HurricaneMichael\", \"jobs\", \"Kavanaugh\"], \"y\": [3, 2, 3, 2, 2, 2, 3, 2, 3, 2]}, {\"name\": \"Carper\", \"type\": \"bar\", \"uid\": \"82a5692b-2137-47c3-812e-2fcfda356716\", \"x\": [\"Ohio\", \"Jobs\", \"infrastructure\", \"STEM\", \"ACA\", \"DACA\", \"FarmBill\", \"mtpol\", \"NotInvisible\", \"NV\", \"CHIP\"], \"y\": [4, 2, 2, 2, 2, 2, 2, 2, 2, 2, 2]}, {\"name\": \"Sanders\", \"type\": \"bar\", \"uid\": \"2337f871-27bc-469e-b8b3-4008a6c80d44\", \"x\": [\"NM\", \"CHIP\", \"climatechange\", \"healthcare\", \"mtpol\", \"smallbiz\", \"Ohio\", \"SCOTUS\", \"DACA\", \"StopCISA\", \"WV\", \"1October\", \"jobs\"], \"y\": [3, 3, 5, 2, 3, 2, 7, 2, 2, 2, 3, 2, 2]}, {\"name\": \"kaine\", \"type\": \"bar\", \"uid\": \"124e0e2f-0626-440e-965f-b01d5b8200f6\", \"x\": [], \"y\": []}],\n",
       "                        {},\n",
       "                        {\"showLink\": false, \"linkText\": \"Export to plot.ly\", \"plotlyServerURL\": \"https://plot.ly\", \"responsive\": true}\n",
       "                    ).then(function(){\n",
       "                            \n",
       "var gd = document.getElementById('2ba1ef8a-6266-420a-beab-251d78a1a0b4');\n",
       "var x = new MutationObserver(function (mutations, observer) {{\n",
       "        var display = window.getComputedStyle(gd).display;\n",
       "        if (!display || display === 'none') {{\n",
       "            console.log([gd, 'removed!']);\n",
       "            Plotly.purge(gd);\n",
       "            observer.disconnect();\n",
       "        }}\n",
       "}});\n",
       "\n",
       "// Listen for the removal of the full notebook cells\n",
       "var notebookContainer = gd.closest('#notebook-container');\n",
       "if (notebookContainer) {{\n",
       "    x.observe(notebookContainer, {childList: true});\n",
       "}}\n",
       "\n",
       "// Listen for the clearing of the current output cell\n",
       "var outputEl = gd.closest('.output');\n",
       "if (outputEl) {{\n",
       "    x.observe(outputEl, {childList: true});\n",
       "}}\n",
       "\n",
       "                        })\n",
       "                };\n",
       "                });\n",
       "            </script>\n",
       "        </div>"
      ]
     },
     "metadata": {},
     "output_type": "display_data"
    },
    {
     "data": {
      "application/vnd.plotly.v1+json": {
       "config": {
        "linkText": "Export to plot.ly",
        "plotlyServerURL": "https://plot.ly",
        "showLink": false
       },
       "data": [
        {
         "name": "Brown",
         "type": "bar",
         "uid": "9a8f0413-c7a2-48bf-b125-30ae27b765ec",
         "x": [
          "FarmBill",
          "taxrelief",
          "Kentucky",
          "HurricaneMaria",
          "healthcare",
          "climatechange",
          "mtpol",
          "Florida",
          "WhatAreTheyHiding",
          "jobs",
          "1October",
          "Senate",
          "SCOTUS",
          "CHIP",
          "Janus",
          "Ohio",
          "IIOA",
          "NM",
          "DACA",
          "Veterans",
          "Russia",
          "infrastructure",
          "Kavanaugh",
          "Trump",
          "utpol",
          "SIPublicLands"
         ],
         "y": [
          5,
          2,
          3,
          2,
          2,
          4,
          7,
          4,
          2,
          7,
          2,
          2,
          6,
          3,
          3,
          8,
          3,
          9,
          6,
          2,
          4,
          2,
          2,
          2,
          5,
          2
         ]
        },
        {
         "name": "Heinrich",
         "type": "bar",
         "uid": "5f6ca2e7-25ec-4e48-b468-88fda35b305a",
         "x": [
          "ACA",
          "Ohio",
          "DACA"
         ],
         "y": [
          2,
          2,
          2
         ]
        },
        {
         "name": "Cruz",
         "type": "bar",
         "uid": "af48736c-7a63-4301-a72f-c826b04d92e5",
         "x": [
          "Ohio",
          "NM",
          "FarmBill",
          "Kavanaugh",
          "SCOTUS",
          "utpol",
          "climatechange",
          "mtpol",
          "ProtectOurCare",
          "WV"
         ],
         "y": [
          3,
          4,
          3,
          2,
          2,
          2,
          2,
          4,
          2,
          2
         ]
        },
        {
         "name": "Whitehouse",
         "type": "bar",
         "uid": "8ebe6b04-d376-414f-8868-a79b48c0cb9d",
         "x": [
          "WhatsAtStake",
          "climatechange",
          "HurricaneMichael",
          "mtpol",
          "Trumpcare",
          "jobs",
          "SCOTUS",
          "ClimateChange",
          "Russia",
          "CHIP",
          "Ohio",
          "Kentucky",
          "NM",
          "utpol",
          "DreamActNow"
         ],
         "y": [
          2,
          3,
          2,
          8,
          3,
          2,
          6,
          2,
          2,
          3,
          4,
          2,
          3,
          3,
          2
         ]
        },
        {
         "name": "Casey",
         "type": "bar",
         "uid": "aef41b30-99da-47ca-8f19-2f67b338b857",
         "x": [
          "ActOnClimate",
          "climatechange",
          "SCOTUS",
          "CHIP",
          "NM",
          "veterans",
          "FarmBill",
          "Ohio",
          "jobs",
          "Trumpcare",
          "ACA",
          "Mnuchin",
          "healthcare"
         ],
         "y": [
          3,
          2,
          2,
          4,
          2,
          2,
          2,
          3,
          3,
          2,
          2,
          2,
          3
         ]
        }
       ],
       "layout": {}
      },
      "text/html": [
       "<div>\n",
       "        \n",
       "        \n",
       "            <div id=\"29fbef3e-67bb-4914-9478-80f41546cab2\" class=\"plotly-graph-div\" style=\"height:525px; width:100%;\"></div>\n",
       "            <script type=\"text/javascript\">\n",
       "                require([\"plotly\"], function(Plotly) {\n",
       "                    window.PLOTLYENV=window.PLOTLYENV || {};\n",
       "                    window.PLOTLYENV.BASE_URL='https://plot.ly';\n",
       "                    \n",
       "                if (document.getElementById(\"29fbef3e-67bb-4914-9478-80f41546cab2\")) {\n",
       "                    Plotly.newPlot(\n",
       "                        '29fbef3e-67bb-4914-9478-80f41546cab2',\n",
       "                        [{\"name\": \"Brown\", \"type\": \"bar\", \"uid\": \"9a8f0413-c7a2-48bf-b125-30ae27b765ec\", \"x\": [\"FarmBill\", \"taxrelief\", \"Kentucky\", \"HurricaneMaria\", \"healthcare\", \"climatechange\", \"mtpol\", \"Florida\", \"WhatAreTheyHiding\", \"jobs\", \"1October\", \"Senate\", \"SCOTUS\", \"CHIP\", \"Janus\", \"Ohio\", \"IIOA\", \"NM\", \"DACA\", \"Veterans\", \"Russia\", \"infrastructure\", \"Kavanaugh\", \"Trump\", \"utpol\", \"SIPublicLands\"], \"y\": [5, 2, 3, 2, 2, 4, 7, 4, 2, 7, 2, 2, 6, 3, 3, 8, 3, 9, 6, 2, 4, 2, 2, 2, 5, 2]}, {\"name\": \"Heinrich\", \"type\": \"bar\", \"uid\": \"5f6ca2e7-25ec-4e48-b468-88fda35b305a\", \"x\": [\"ACA\", \"Ohio\", \"DACA\"], \"y\": [2, 2, 2]}, {\"name\": \"Cruz\", \"type\": \"bar\", \"uid\": \"af48736c-7a63-4301-a72f-c826b04d92e5\", \"x\": [\"Ohio\", \"NM\", \"FarmBill\", \"Kavanaugh\", \"SCOTUS\", \"utpol\", \"climatechange\", \"mtpol\", \"ProtectOurCare\", \"WV\"], \"y\": [3, 4, 3, 2, 2, 2, 2, 4, 2, 2]}, {\"name\": \"Whitehouse\", \"type\": \"bar\", \"uid\": \"8ebe6b04-d376-414f-8868-a79b48c0cb9d\", \"x\": [\"WhatsAtStake\", \"climatechange\", \"HurricaneMichael\", \"mtpol\", \"Trumpcare\", \"jobs\", \"SCOTUS\", \"ClimateChange\", \"Russia\", \"CHIP\", \"Ohio\", \"Kentucky\", \"NM\", \"utpol\", \"DreamActNow\"], \"y\": [2, 3, 2, 8, 3, 2, 6, 2, 2, 3, 4, 2, 3, 3, 2]}, {\"name\": \"Casey\", \"type\": \"bar\", \"uid\": \"aef41b30-99da-47ca-8f19-2f67b338b857\", \"x\": [\"ActOnClimate\", \"climatechange\", \"SCOTUS\", \"CHIP\", \"NM\", \"veterans\", \"FarmBill\", \"Ohio\", \"jobs\", \"Trumpcare\", \"ACA\", \"Mnuchin\", \"healthcare\"], \"y\": [3, 2, 2, 4, 2, 2, 2, 3, 3, 2, 2, 2, 3]}],\n",
       "                        {},\n",
       "                        {\"showLink\": false, \"linkText\": \"Export to plot.ly\", \"plotlyServerURL\": \"https://plot.ly\", \"responsive\": true}\n",
       "                    ).then(function(){\n",
       "                            \n",
       "var gd = document.getElementById('29fbef3e-67bb-4914-9478-80f41546cab2');\n",
       "var x = new MutationObserver(function (mutations, observer) {{\n",
       "        var display = window.getComputedStyle(gd).display;\n",
       "        if (!display || display === 'none') {{\n",
       "            console.log([gd, 'removed!']);\n",
       "            Plotly.purge(gd);\n",
       "            observer.disconnect();\n",
       "        }}\n",
       "}});\n",
       "\n",
       "// Listen for the removal of the full notebook cells\n",
       "var notebookContainer = gd.closest('#notebook-container');\n",
       "if (notebookContainer) {{\n",
       "    x.observe(notebookContainer, {childList: true});\n",
       "}}\n",
       "\n",
       "// Listen for the clearing of the current output cell\n",
       "var outputEl = gd.closest('.output');\n",
       "if (outputEl) {{\n",
       "    x.observe(outputEl, {childList: true});\n",
       "}}\n",
       "\n",
       "                        })\n",
       "                };\n",
       "                });\n",
       "            </script>\n",
       "        </div>"
      ]
     },
     "metadata": {},
     "output_type": "display_data"
    }
   ],
   "source": [
    "# Plot distribution of top 5 hashtags for each senator\n",
    "\n",
    "def count_all_hashtags(tags):\n",
    "    tags_by_count = collections.defaultdict(int)\n",
    "    for date, tags in tags.items():\n",
    "        for t in tags:\n",
    "            for t_ in t:\n",
    "                tags_by_count[t_] += 1\n",
    "                \n",
    "    return tags_by_count\n",
    "\n",
    "data = []\n",
    "i = 1\n",
    "for sen, tags in tags_by_name.items():\n",
    "    num_tags_by_name = count_all_hashtags(tags)\n",
    "    \n",
    "    num_tags_by_name = {k:v for (k,v) in num_tags_by_name.items() if v > 1}\n",
    "    \n",
    "    data.append(\n",
    "            go.Bar(\n",
    "                x = list(num_tags_by_name.keys()),\n",
    "                y = list(num_tags_by_name.values()),\n",
    "                name = sen\n",
    "            )\n",
    "    )\n",
    "    if i > 3:\n",
    "        py.iplot(data, filename='hashtags_by_senator')\n",
    "        data.clear()\n",
    "        i = 0\n",
    "    else:\n",
    "        i += 1\n",
    "    \n",
    "\n",
    "\n",
    "    \n"
   ]
  },
  {
   "cell_type": "code",
   "execution_count": 114,
   "metadata": {},
   "outputs": [
    {
     "data": {
      "application/vnd.plotly.v1+json": {
       "config": {
        "linkText": "Export to plot.ly",
        "plotlyServerURL": "https://plot.ly",
        "showLink": false
       },
       "data": [
        {
         "name": "Fischer",
         "type": "bar",
         "uid": "a09d9d7e-eec5-4b6c-8c0d-1ac0a6c864d6",
         "x": [
          "mtpol",
          "CHIP",
          "Ohio",
          "SCOTUS",
          "DACA",
          "Mnuchin"
         ],
         "y": [
          4,
          2,
          3,
          2,
          2,
          2
         ]
        },
        {
         "name": "Wicker",
         "type": "bar",
         "uid": "b65e8831-2089-4b8d-b78b-3d0b49649494",
         "x": [
          "1October",
          "SCOTUS",
          "DACA",
          "mtpol"
         ],
         "y": [
          2,
          3,
          2,
          2
         ]
        },
        {
         "name": "Cruz",
         "type": "bar",
         "uid": "8e8a72c9-0214-4979-abc1-de7599c1940c",
         "x": [
          "Ohio",
          "NM",
          "FarmBill",
          "Kavanaugh",
          "SCOTUS",
          "utpol",
          "climatechange",
          "mtpol",
          "ProtectOurCare",
          "WV"
         ],
         "y": [
          3,
          4,
          3,
          2,
          2,
          2,
          2,
          4,
          2,
          2
         ]
        },
        {
         "name": "Barrasso",
         "type": "bar",
         "uid": "d2cbcc44-5f53-4331-a6ef-e7389a5f2a06",
         "x": [
          "SCOTUS",
          "Russia",
          "GOPTaxPlan",
          "DACA",
          "Kavanaugh",
          "Ohio",
          "CHIP",
          "climatechange",
          "NM",
          "Trumpcare",
          "ACA",
          "healthcare",
          "WhatsAtStake",
          "LasVegas",
          "Obamacare"
         ],
         "y": [
          4,
          3,
          2,
          2,
          2,
          2,
          2,
          3,
          2,
          2,
          4,
          2,
          2,
          2,
          2
         ]
        }
       ],
       "layout": {}
      },
      "text/html": [
       "<div>\n",
       "        \n",
       "        \n",
       "            <div id=\"4f551ab4-6237-4e67-a664-ef462165e967\" class=\"plotly-graph-div\" style=\"height:525px; width:100%;\"></div>\n",
       "            <script type=\"text/javascript\">\n",
       "                require([\"plotly\"], function(Plotly) {\n",
       "                    window.PLOTLYENV=window.PLOTLYENV || {};\n",
       "                    window.PLOTLYENV.BASE_URL='https://plot.ly';\n",
       "                    \n",
       "                if (document.getElementById(\"4f551ab4-6237-4e67-a664-ef462165e967\")) {\n",
       "                    Plotly.newPlot(\n",
       "                        '4f551ab4-6237-4e67-a664-ef462165e967',\n",
       "                        [{\"name\": \"Fischer\", \"type\": \"bar\", \"uid\": \"a09d9d7e-eec5-4b6c-8c0d-1ac0a6c864d6\", \"x\": [\"mtpol\", \"CHIP\", \"Ohio\", \"SCOTUS\", \"DACA\", \"Mnuchin\"], \"y\": [4, 2, 3, 2, 2, 2]}, {\"name\": \"Wicker\", \"type\": \"bar\", \"uid\": \"b65e8831-2089-4b8d-b78b-3d0b49649494\", \"x\": [\"1October\", \"SCOTUS\", \"DACA\", \"mtpol\"], \"y\": [2, 3, 2, 2]}, {\"name\": \"Cruz\", \"type\": \"bar\", \"uid\": \"8e8a72c9-0214-4979-abc1-de7599c1940c\", \"x\": [\"Ohio\", \"NM\", \"FarmBill\", \"Kavanaugh\", \"SCOTUS\", \"utpol\", \"climatechange\", \"mtpol\", \"ProtectOurCare\", \"WV\"], \"y\": [3, 4, 3, 2, 2, 2, 2, 4, 2, 2]}, {\"name\": \"Barrasso\", \"type\": \"bar\", \"uid\": \"d2cbcc44-5f53-4331-a6ef-e7389a5f2a06\", \"x\": [\"SCOTUS\", \"Russia\", \"GOPTaxPlan\", \"DACA\", \"Kavanaugh\", \"Ohio\", \"CHIP\", \"climatechange\", \"NM\", \"Trumpcare\", \"ACA\", \"healthcare\", \"WhatsAtStake\", \"LasVegas\", \"Obamacare\"], \"y\": [4, 3, 2, 2, 2, 2, 2, 3, 2, 2, 4, 2, 2, 2, 2]}],\n",
       "                        {},\n",
       "                        {\"showLink\": false, \"linkText\": \"Export to plot.ly\", \"plotlyServerURL\": \"https://plot.ly\", \"responsive\": true}\n",
       "                    ).then(function(){\n",
       "                            \n",
       "var gd = document.getElementById('4f551ab4-6237-4e67-a664-ef462165e967');\n",
       "var x = new MutationObserver(function (mutations, observer) {{\n",
       "        var display = window.getComputedStyle(gd).display;\n",
       "        if (!display || display === 'none') {{\n",
       "            console.log([gd, 'removed!']);\n",
       "            Plotly.purge(gd);\n",
       "            observer.disconnect();\n",
       "        }}\n",
       "}});\n",
       "\n",
       "// Listen for the removal of the full notebook cells\n",
       "var notebookContainer = gd.closest('#notebook-container');\n",
       "if (notebookContainer) {{\n",
       "    x.observe(notebookContainer, {childList: true});\n",
       "}}\n",
       "\n",
       "// Listen for the clearing of the current output cell\n",
       "var outputEl = gd.closest('.output');\n",
       "if (outputEl) {{\n",
       "    x.observe(outputEl, {childList: true});\n",
       "}}\n",
       "\n",
       "                        })\n",
       "                };\n",
       "                });\n",
       "            </script>\n",
       "        </div>"
      ]
     },
     "metadata": {},
     "output_type": "display_data"
    },
    {
     "data": {
      "application/vnd.plotly.v1+json": {
       "config": {
        "linkText": "Export to plot.ly",
        "plotlyServerURL": "https://plot.ly",
        "showLink": false
       },
       "data": [
        {
         "name": "hirono",
         "type": "bar",
         "uid": "739c5c19-be31-47fd-9c45-fe5eb28c9240",
         "x": [
          "mtpol",
          "FarmBill",
          "NM",
          "climatechange",
          "Ohio",
          "WV",
          "CHIP",
          "HurricaneMichael",
          "jobs",
          "Kavanaugh"
         ],
         "y": [
          3,
          2,
          3,
          2,
          2,
          2,
          3,
          2,
          3,
          2
         ]
        },
        {
         "name": "Murphy",
         "type": "bar",
         "uid": "3e69540c-71c3-47a6-93ef-198d84ab9807",
         "x": [
          "Trumpcare",
          "mtpol",
          "SCOTUS",
          "Obamacare",
          "ACA",
          "jobs",
          "CHIP",
          "UK",
          "DACA",
          "Fargo",
          "NM",
          "HurricaneMaria",
          "NV",
          "WV",
          "climatechange",
          "Ohio",
          "Russia",
          "1October",
          "FarmBill",
          "Kentucky",
          "Florida",
          "opioid",
          "IIOA",
          "Kavanaugh",
          "healthcare"
         ],
         "y": [
          4,
          4,
          11,
          2,
          6,
          6,
          5,
          3,
          3,
          2,
          6,
          2,
          5,
          2,
          7,
          8,
          3,
          3,
          2,
          4,
          2,
          2,
          2,
          5,
          2
         ]
        },
        {
         "name": "Whitehouse",
         "type": "bar",
         "uid": "ab35262f-41ed-4da2-9c0c-473438d21efa",
         "x": [
          "WhatsAtStake",
          "climatechange",
          "HurricaneMichael",
          "mtpol",
          "Trumpcare",
          "jobs",
          "SCOTUS",
          "ClimateChange",
          "Russia",
          "CHIP",
          "Ohio",
          "Kentucky",
          "NM",
          "utpol",
          "DreamActNow"
         ],
         "y": [
          2,
          3,
          2,
          8,
          3,
          2,
          6,
          2,
          2,
          3,
          4,
          2,
          3,
          3,
          2
         ]
        },
        {
         "name": "Cantwell",
         "type": "bar",
         "uid": "3d212ed6-1e81-4436-9a55-07aedb0f0b13",
         "x": [
          "NetNeutrality",
          "mtpol",
          "SCOTUS",
          "NM",
          "climatechange",
          "WV",
          "WhatAreTheyHiding",
          "Ohio",
          "STEM",
          "jobs"
         ],
         "y": [
          4,
          6,
          5,
          2,
          2,
          4,
          2,
          3,
          2,
          3
         ]
        },
        {
         "name": "Feinstein",
         "type": "bar",
         "uid": "6ad9e59b-fff1-4067-ab03-0ab399e2745b",
         "x": [
          "mtpol",
          "FirstStepAct",
          "Ohio",
          "Trumpcare",
          "climatechange",
          "opioidepidemic",
          "utpol",
          "SCOTUS",
          "jobs",
          "NM",
          "ProtectOurCare",
          "JudgeGorsuch"
         ],
         "y": [
          6,
          3,
          4,
          3,
          3,
          2,
          2,
          3,
          2,
          2,
          2,
          2
         ]
        },
        {
         "name": "kaine",
         "type": "bar",
         "uid": "bcb7ee77-990d-477d-b188-bdbef444f86e",
         "x": [],
         "y": []
        }
       ],
       "layout": {}
      },
      "text/html": [
       "<div>\n",
       "        \n",
       "        \n",
       "            <div id=\"1dc9b6fb-9b8f-4cc5-8d77-aca42846d359\" class=\"plotly-graph-div\" style=\"height:525px; width:100%;\"></div>\n",
       "            <script type=\"text/javascript\">\n",
       "                require([\"plotly\"], function(Plotly) {\n",
       "                    window.PLOTLYENV=window.PLOTLYENV || {};\n",
       "                    window.PLOTLYENV.BASE_URL='https://plot.ly';\n",
       "                    \n",
       "                if (document.getElementById(\"1dc9b6fb-9b8f-4cc5-8d77-aca42846d359\")) {\n",
       "                    Plotly.newPlot(\n",
       "                        '1dc9b6fb-9b8f-4cc5-8d77-aca42846d359',\n",
       "                        [{\"name\": \"hirono\", \"type\": \"bar\", \"uid\": \"739c5c19-be31-47fd-9c45-fe5eb28c9240\", \"x\": [\"mtpol\", \"FarmBill\", \"NM\", \"climatechange\", \"Ohio\", \"WV\", \"CHIP\", \"HurricaneMichael\", \"jobs\", \"Kavanaugh\"], \"y\": [3, 2, 3, 2, 2, 2, 3, 2, 3, 2]}, {\"name\": \"Murphy\", \"type\": \"bar\", \"uid\": \"3e69540c-71c3-47a6-93ef-198d84ab9807\", \"x\": [\"Trumpcare\", \"mtpol\", \"SCOTUS\", \"Obamacare\", \"ACA\", \"jobs\", \"CHIP\", \"UK\", \"DACA\", \"Fargo\", \"NM\", \"HurricaneMaria\", \"NV\", \"WV\", \"climatechange\", \"Ohio\", \"Russia\", \"1October\", \"FarmBill\", \"Kentucky\", \"Florida\", \"opioid\", \"IIOA\", \"Kavanaugh\", \"healthcare\"], \"y\": [4, 4, 11, 2, 6, 6, 5, 3, 3, 2, 6, 2, 5, 2, 7, 8, 3, 3, 2, 4, 2, 2, 2, 5, 2]}, {\"name\": \"Whitehouse\", \"type\": \"bar\", \"uid\": \"ab35262f-41ed-4da2-9c0c-473438d21efa\", \"x\": [\"WhatsAtStake\", \"climatechange\", \"HurricaneMichael\", \"mtpol\", \"Trumpcare\", \"jobs\", \"SCOTUS\", \"ClimateChange\", \"Russia\", \"CHIP\", \"Ohio\", \"Kentucky\", \"NM\", \"utpol\", \"DreamActNow\"], \"y\": [2, 3, 2, 8, 3, 2, 6, 2, 2, 3, 4, 2, 3, 3, 2]}, {\"name\": \"Cantwell\", \"type\": \"bar\", \"uid\": \"3d212ed6-1e81-4436-9a55-07aedb0f0b13\", \"x\": [\"NetNeutrality\", \"mtpol\", \"SCOTUS\", \"NM\", \"climatechange\", \"WV\", \"WhatAreTheyHiding\", \"Ohio\", \"STEM\", \"jobs\"], \"y\": [4, 6, 5, 2, 2, 4, 2, 3, 2, 3]}, {\"name\": \"Feinstein\", \"type\": \"bar\", \"uid\": \"6ad9e59b-fff1-4067-ab03-0ab399e2745b\", \"x\": [\"mtpol\", \"FirstStepAct\", \"Ohio\", \"Trumpcare\", \"climatechange\", \"opioidepidemic\", \"utpol\", \"SCOTUS\", \"jobs\", \"NM\", \"ProtectOurCare\", \"JudgeGorsuch\"], \"y\": [6, 3, 4, 3, 3, 2, 2, 3, 2, 2, 2, 2]}, {\"name\": \"kaine\", \"type\": \"bar\", \"uid\": \"bcb7ee77-990d-477d-b188-bdbef444f86e\", \"x\": [], \"y\": []}],\n",
       "                        {},\n",
       "                        {\"showLink\": false, \"linkText\": \"Export to plot.ly\", \"plotlyServerURL\": \"https://plot.ly\", \"responsive\": true}\n",
       "                    ).then(function(){\n",
       "                            \n",
       "var gd = document.getElementById('1dc9b6fb-9b8f-4cc5-8d77-aca42846d359');\n",
       "var x = new MutationObserver(function (mutations, observer) {{\n",
       "        var display = window.getComputedStyle(gd).display;\n",
       "        if (!display || display === 'none') {{\n",
       "            console.log([gd, 'removed!']);\n",
       "            Plotly.purge(gd);\n",
       "            observer.disconnect();\n",
       "        }}\n",
       "}});\n",
       "\n",
       "// Listen for the removal of the full notebook cells\n",
       "var notebookContainer = gd.closest('#notebook-container');\n",
       "if (notebookContainer) {{\n",
       "    x.observe(notebookContainer, {childList: true});\n",
       "}}\n",
       "\n",
       "// Listen for the clearing of the current output cell\n",
       "var outputEl = gd.closest('.output');\n",
       "if (outputEl) {{\n",
       "    x.observe(outputEl, {childList: true});\n",
       "}}\n",
       "\n",
       "                        })\n",
       "                };\n",
       "                });\n",
       "            </script>\n",
       "        </div>"
      ]
     },
     "metadata": {},
     "output_type": "display_data"
    },
    {
     "data": {
      "application/vnd.plotly.v1+json": {
       "config": {
        "linkText": "Export to plot.ly",
        "plotlyServerURL": "https://plot.ly",
        "showLink": false
       },
       "data": [
        {
         "name": "Tester",
         "type": "bar",
         "uid": "0bd5281c-715c-454d-855b-ab1ab0593323",
         "x": [
          "WV"
         ],
         "y": [
          2
         ]
        },
        {
         "name": "Sanders",
         "type": "bar",
         "uid": "133e1614-b91f-498b-a5f5-6947f4dff36e",
         "x": [
          "NM",
          "CHIP",
          "climatechange",
          "healthcare",
          "mtpol",
          "smallbiz",
          "Ohio",
          "SCOTUS",
          "DACA",
          "StopCISA",
          "WV",
          "1October",
          "jobs"
         ],
         "y": [
          3,
          3,
          5,
          2,
          3,
          2,
          7,
          2,
          2,
          2,
          3,
          2,
          2
         ]
        },
        {
         "name": "Menendez",
         "type": "bar",
         "uid": "ccebce10-e414-492d-80f4-4bf52b1e4dbf",
         "x": [
          "mtpol",
          "Ohio",
          "CHIP",
          "GetCovered",
          "SESTA",
          "NAFTA",
          "Kentucky",
          "Russia",
          "FarmBill",
          "NotInvisible",
          "NM",
          "jobs",
          "smallbiz"
         ],
         "y": [
          4,
          9,
          2,
          2,
          2,
          2,
          3,
          2,
          3,
          3,
          2,
          4,
          2
         ]
        },
        {
         "name": "Stabenow",
         "type": "bar",
         "uid": "10fa1349-e2fb-436d-b8b2-678703cc3f02",
         "x": [
          "mtpol",
          "RideMI",
          "climatechange",
          "Ohio",
          "CHIP",
          "healthcare",
          "Veterans",
          "NM",
          "NV"
         ],
         "y": [
          2,
          2,
          2,
          2,
          3,
          3,
          2,
          3,
          2
         ]
        },
        {
         "name": "Carper",
         "type": "bar",
         "uid": "4d321476-133d-4618-8b65-3e737ed71abc",
         "x": [
          "Ohio",
          "Jobs",
          "infrastructure",
          "STEM",
          "ACA",
          "DACA",
          "FarmBill",
          "mtpol",
          "NotInvisible",
          "NV",
          "CHIP"
         ],
         "y": [
          4,
          2,
          2,
          2,
          2,
          2,
          2,
          2,
          2,
          2,
          2
         ]
        },
        {
         "name": "Casey",
         "type": "bar",
         "uid": "6020fe17-c3bc-4dfa-a3d7-175bd05cf6df",
         "x": [
          "ActOnClimate",
          "climatechange",
          "SCOTUS",
          "CHIP",
          "NM",
          "veterans",
          "FarmBill",
          "Ohio",
          "jobs",
          "Trumpcare",
          "ACA",
          "Mnuchin",
          "healthcare"
         ],
         "y": [
          3,
          2,
          2,
          4,
          2,
          2,
          2,
          3,
          3,
          2,
          2,
          2,
          3
         ]
        },
        {
         "name": "Brown",
         "type": "bar",
         "uid": "856bce04-375f-46ac-923c-8db9bea6d030",
         "x": [
          "FarmBill",
          "taxrelief",
          "Kentucky",
          "HurricaneMaria",
          "healthcare",
          "climatechange",
          "mtpol",
          "Florida",
          "WhatAreTheyHiding",
          "jobs",
          "1October",
          "Senate",
          "SCOTUS",
          "CHIP",
          "Janus",
          "Ohio",
          "IIOA",
          "NM",
          "DACA",
          "Veterans",
          "Russia",
          "infrastructure",
          "Kavanaugh",
          "Trump",
          "utpol",
          "SIPublicLands"
         ],
         "y": [
          5,
          2,
          3,
          2,
          2,
          4,
          7,
          4,
          2,
          7,
          2,
          2,
          6,
          3,
          3,
          8,
          3,
          9,
          6,
          2,
          4,
          2,
          2,
          2,
          5,
          2
         ]
        }
       ],
       "layout": {}
      },
      "text/html": [
       "<div>\n",
       "        \n",
       "        \n",
       "            <div id=\"68d053bc-843b-4481-a697-48619b8cdc44\" class=\"plotly-graph-div\" style=\"height:525px; width:100%;\"></div>\n",
       "            <script type=\"text/javascript\">\n",
       "                require([\"plotly\"], function(Plotly) {\n",
       "                    window.PLOTLYENV=window.PLOTLYENV || {};\n",
       "                    window.PLOTLYENV.BASE_URL='https://plot.ly';\n",
       "                    \n",
       "                if (document.getElementById(\"68d053bc-843b-4481-a697-48619b8cdc44\")) {\n",
       "                    Plotly.newPlot(\n",
       "                        '68d053bc-843b-4481-a697-48619b8cdc44',\n",
       "                        [{\"name\": \"Tester\", \"type\": \"bar\", \"uid\": \"0bd5281c-715c-454d-855b-ab1ab0593323\", \"x\": [\"WV\"], \"y\": [2]}, {\"name\": \"Sanders\", \"type\": \"bar\", \"uid\": \"133e1614-b91f-498b-a5f5-6947f4dff36e\", \"x\": [\"NM\", \"CHIP\", \"climatechange\", \"healthcare\", \"mtpol\", \"smallbiz\", \"Ohio\", \"SCOTUS\", \"DACA\", \"StopCISA\", \"WV\", \"1October\", \"jobs\"], \"y\": [3, 3, 5, 2, 3, 2, 7, 2, 2, 2, 3, 2, 2]}, {\"name\": \"Menendez\", \"type\": \"bar\", \"uid\": \"ccebce10-e414-492d-80f4-4bf52b1e4dbf\", \"x\": [\"mtpol\", \"Ohio\", \"CHIP\", \"GetCovered\", \"SESTA\", \"NAFTA\", \"Kentucky\", \"Russia\", \"FarmBill\", \"NotInvisible\", \"NM\", \"jobs\", \"smallbiz\"], \"y\": [4, 9, 2, 2, 2, 2, 3, 2, 3, 3, 2, 4, 2]}, {\"name\": \"Stabenow\", \"type\": \"bar\", \"uid\": \"10fa1349-e2fb-436d-b8b2-678703cc3f02\", \"x\": [\"mtpol\", \"RideMI\", \"climatechange\", \"Ohio\", \"CHIP\", \"healthcare\", \"Veterans\", \"NM\", \"NV\"], \"y\": [2, 2, 2, 2, 3, 3, 2, 3, 2]}, {\"name\": \"Carper\", \"type\": \"bar\", \"uid\": \"4d321476-133d-4618-8b65-3e737ed71abc\", \"x\": [\"Ohio\", \"Jobs\", \"infrastructure\", \"STEM\", \"ACA\", \"DACA\", \"FarmBill\", \"mtpol\", \"NotInvisible\", \"NV\", \"CHIP\"], \"y\": [4, 2, 2, 2, 2, 2, 2, 2, 2, 2, 2]}, {\"name\": \"Casey\", \"type\": \"bar\", \"uid\": \"6020fe17-c3bc-4dfa-a3d7-175bd05cf6df\", \"x\": [\"ActOnClimate\", \"climatechange\", \"SCOTUS\", \"CHIP\", \"NM\", \"veterans\", \"FarmBill\", \"Ohio\", \"jobs\", \"Trumpcare\", \"ACA\", \"Mnuchin\", \"healthcare\"], \"y\": [3, 2, 2, 4, 2, 2, 2, 3, 3, 2, 2, 2, 3]}, {\"name\": \"Brown\", \"type\": \"bar\", \"uid\": \"856bce04-375f-46ac-923c-8db9bea6d030\", \"x\": [\"FarmBill\", \"taxrelief\", \"Kentucky\", \"HurricaneMaria\", \"healthcare\", \"climatechange\", \"mtpol\", \"Florida\", \"WhatAreTheyHiding\", \"jobs\", \"1October\", \"Senate\", \"SCOTUS\", \"CHIP\", \"Janus\", \"Ohio\", \"IIOA\", \"NM\", \"DACA\", \"Veterans\", \"Russia\", \"infrastructure\", \"Kavanaugh\", \"Trump\", \"utpol\", \"SIPublicLands\"], \"y\": [5, 2, 3, 2, 2, 4, 7, 4, 2, 7, 2, 2, 6, 3, 3, 8, 3, 9, 6, 2, 4, 2, 2, 2, 5, 2]}],\n",
       "                        {},\n",
       "                        {\"showLink\": false, \"linkText\": \"Export to plot.ly\", \"plotlyServerURL\": \"https://plot.ly\", \"responsive\": true}\n",
       "                    ).then(function(){\n",
       "                            \n",
       "var gd = document.getElementById('68d053bc-843b-4481-a697-48619b8cdc44');\n",
       "var x = new MutationObserver(function (mutations, observer) {{\n",
       "        var display = window.getComputedStyle(gd).display;\n",
       "        if (!display || display === 'none') {{\n",
       "            console.log([gd, 'removed!']);\n",
       "            Plotly.purge(gd);\n",
       "            observer.disconnect();\n",
       "        }}\n",
       "}});\n",
       "\n",
       "// Listen for the removal of the full notebook cells\n",
       "var notebookContainer = gd.closest('#notebook-container');\n",
       "if (notebookContainer) {{\n",
       "    x.observe(notebookContainer, {childList: true});\n",
       "}}\n",
       "\n",
       "// Listen for the clearing of the current output cell\n",
       "var outputEl = gd.closest('.output');\n",
       "if (outputEl) {{\n",
       "    x.observe(outputEl, {childList: true});\n",
       "}}\n",
       "\n",
       "                        })\n",
       "                };\n",
       "                });\n",
       "            </script>\n",
       "        </div>"
      ]
     },
     "metadata": {},
     "output_type": "display_data"
    }
   ],
   "source": [
    "\n",
    "\n",
    "\n",
    "data = []\n",
    "i = 1\n",
    "for sen in republican:\n",
    "    tags = tags_by_name[sen]\n",
    "    num_tags_by_name = count_all_hashtags(tags)\n",
    "    \n",
    "    num_tags_by_name = {k:v for (k,v) in num_tags_by_name.items() if v > 1}\n",
    "    \n",
    "    data.append(\n",
    "            go.Bar(\n",
    "                x = list(num_tags_by_name.keys()),\n",
    "                y = list(num_tags_by_name.values()),\n",
    "                name = sen\n",
    "            )\n",
    "    )\n",
    "py.iplot(data, filename='hashtags_by_senator')\n",
    "data.clear()\n",
    "\n",
    "        \n",
    "        \n",
    "data = []\n",
    "i = 1\n",
    "for sen in democrats:\n",
    "    tags = tags_by_name[sen]\n",
    "    num_tags_by_name = count_all_hashtags(tags)\n",
    "    \n",
    "    num_tags_by_name = {k:v for (k,v) in num_tags_by_name.items() if v > 1}\n",
    "    \n",
    "    data.append(\n",
    "            go.Bar(\n",
    "                x = list(num_tags_by_name.keys()),\n",
    "                y = list(num_tags_by_name.values()),\n",
    "                name = sen\n",
    "            )\n",
    "    )\n",
    "    if i > 5:\n",
    "        py.iplot(data, filename='hashtags_by_senator')\n",
    "        data.clear()\n",
    "        i = 0\n",
    "    else:\n",
    "        i += 1\n",
    "    \n",
    "\n",
    "\n"
   ]
  },
  {
   "cell_type": "code",
   "execution_count": null,
   "metadata": {},
   "outputs": [],
   "source": []
  }
 ],
 "metadata": {
  "kernelspec": {
   "display_name": "Python 3",
   "language": "python",
   "name": "python3"
  },
  "language_info": {
   "codemirror_mode": {
    "name": "ipython",
    "version": 3
   },
   "file_extension": ".py",
   "mimetype": "text/x-python",
   "name": "python",
   "nbconvert_exporter": "python",
   "pygments_lexer": "ipython3",
   "version": "3.7.3"
  }
 },
 "nbformat": 4,
 "nbformat_minor": 2
}
